{
  "metadata": {
    "kernelspec": {
      "language": "python",
      "display_name": "Python 3",
      "name": "python3"
    },
    "language_info": {
      "pygments_lexer": "ipython3",
      "nbconvert_exporter": "python",
      "version": "3.6.4",
      "file_extension": ".py",
      "codemirror_mode": {
        "name": "ipython",
        "version": 3
      },
      "name": "python",
      "mimetype": "text/x-python"
    },
    "colab": {
      "provenance": [],
      "include_colab_link": true
    }
  },
  "nbformat_minor": 0,
  "nbformat": 4,
  "cells": [
    {
      "cell_type": "markdown",
      "metadata": {
        "id": "view-in-github",
        "colab_type": "text"
      },
      "source": [
        "<a href=\"https://colab.research.google.com/github/salvananez/Data-Science/blob/main/Proyecto_F1.ipynb\" target=\"_parent\"><img src=\"https://colab.research.google.com/assets/colab-badge.svg\" alt=\"Open In Colab\"/></a>"
      ]
    },
    {
      "cell_type": "markdown",
      "source": [
        "# **PROYECTO VISUALIZACIÓN DE DATOS DE FORMULA 1**"
      ],
      "metadata": {
        "id": "KEjIaYfrtqLh"
      }
    },
    {
      "cell_type": "markdown",
      "source": [
        "**La Fórmula 1 (también conocida como F1 o Fórmula Uno) es la clase más alta de carreras de autos monoplazas sancionada por la Fédération Internationale de l'Automobile (FIA) y propiedad de Formula One Group. El Campeonato Mundial de Fórmula Uno de la FIA ha sido una de las principales formas de carreras en todo el mundo desde su temporada inaugural en 1950. La palabra \"fórmula\" en el nombre se refiere al conjunto de reglas que deben cumplir todos los autos de los participantes. Una temporada de Fórmula Uno consiste en una serie de carreras, conocidas como Grandes Premios, que tienen lugar en todo el mundo en circuitos especialmente diseñados y en vías públicas.**"
      ],
      "metadata": {
        "id": "gZz__f0EtqLj"
      }
    },
    {
      "cell_type": "markdown",
      "source": [
        "# Impotando librerías para limpieza y acomodo de datos"
      ],
      "metadata": {
        "id": "x9SjoT_VtqLj"
      }
    },
    {
      "cell_type": "code",
      "source": [
        "import numpy as np \n",
        "import pandas as pd"
      ],
      "metadata": {
        "_uuid": "8f2839f25d086af736a60e9eeb907d3b93b6e0e5",
        "_cell_guid": "b1076dfc-b9ad-4769-8c92-a6c4dae69d19",
        "execution": {
          "iopub.status.busy": "2023-02-24T07:41:29.734449Z",
          "iopub.execute_input": "2023-02-24T07:41:29.734901Z",
          "iopub.status.idle": "2023-02-24T07:41:29.742232Z",
          "shell.execute_reply.started": "2023-02-24T07:41:29.734869Z",
          "shell.execute_reply": "2023-02-24T07:41:29.740803Z"
        },
        "trusted": true,
        "id": "Bykhw6wZtqLj"
      },
      "execution_count": 1,
      "outputs": []
    },
    {
      "cell_type": "markdown",
      "source": [
        "# Cargando los CSV con los datos"
      ],
      "metadata": {
        "id": "U7kbyccOtqLk"
      }
    },
    {
      "cell_type": "code",
      "source": [
        "url='https://drive.google.com/file/d/1fWWgOag4dm0FtfKkVSyjDx5lLTM6gpBv/view?usp=share_link'\n",
        "url='https://drive.google.com/uc?id=' + url.split('/')[-2]\n",
        "results = pd.read_csv(url)\n",
        "\n",
        "url='https://drive.google.com/file/d/1quqMPQcYuDy2qxGUoTPOCUunS155xK1B/view?usp=share_link'\n",
        "url='https://drive.google.com/uc?id=' + url.split('/')[-2]\n",
        "races = pd.read_csv(url)\n",
        "\n",
        "url='https://drive.google.com/file/d/123hUuC1zVX14pGEq-yc59wZNVpDjvfm_/view?usp=share_link'\n",
        "url='https://drive.google.com/uc?id=' + url.split('/')[-2]\n",
        "drivers = pd.read_csv(url)\n",
        "\n",
        "url='https://drive.google.com/file/d/1sOtHv34NXrSwXlbjEglpNO3BckVPV5K3/view?usp=share_link'\n",
        "url='https://drive.google.com/uc?id=' + url.split('/')[-2]\n",
        "constructors = pd.read_csv(url)"
      ],
      "metadata": {
        "id": "0LJHhIfWdLUV"
      },
      "execution_count": null,
      "outputs": []
    },
    {
      "cell_type": "code",
      "source": [
        "# results = pd.read_csv('./results.csv')\n",
        "# races = pd.read_csv('./races.csv')\n",
        "# drivers = pd.read_csv('./drivers.csv')\n",
        "# constructors = pd.read_csv('./constructors.csv')"
      ],
      "metadata": {
        "execution": {
          "iopub.status.busy": "2023-02-24T07:41:29.744879Z",
          "iopub.execute_input": "2023-02-24T07:41:29.745377Z",
          "iopub.status.idle": "2023-02-24T07:41:29.852383Z",
          "shell.execute_reply.started": "2023-02-24T07:41:29.745343Z",
          "shell.execute_reply": "2023-02-24T07:41:29.851099Z"
        },
        "trusted": true,
        "id": "PIwXv-e1tqLk"
      },
      "execution_count": null,
      "outputs": []
    },
    {
      "cell_type": "markdown",
      "source": [
        "# Uniendo los diferentes datasets en un DataFrame"
      ],
      "metadata": {
        "id": "wYMZ4o9ltqLk"
      }
    },
    {
      "cell_type": "code",
      "source": [
        "df = pd.merge(results,races[['raceId','year','name','round']],on = 'raceId',how = 'left')\n"
      ],
      "metadata": {
        "execution": {
          "iopub.status.busy": "2023-02-24T07:41:29.853649Z",
          "iopub.execute_input": "2023-02-24T07:41:29.854048Z",
          "iopub.status.idle": "2023-02-24T07:41:29.917342Z",
          "shell.execute_reply.started": "2023-02-24T07:41:29.853985Z",
          "shell.execute_reply": "2023-02-24T07:41:29.916151Z"
        },
        "trusted": true,
        "id": "OOp16DHRtqLl"
      },
      "execution_count": null,
      "outputs": []
    },
    {
      "cell_type": "code",
      "source": [
        "df = pd.merge(df,drivers[['driverId','driverRef','nationality','forename','surname']],on = 'driverId',how ='left')"
      ],
      "metadata": {
        "execution": {
          "iopub.status.busy": "2023-02-24T07:41:29.853649Z",
          "iopub.execute_input": "2023-02-24T07:41:29.854048Z",
          "iopub.status.idle": "2023-02-24T07:41:29.917342Z",
          "shell.execute_reply.started": "2023-02-24T07:41:29.853985Z",
          "shell.execute_reply": "2023-02-24T07:41:29.916151Z"
        },
        "trusted": true,
        "id": "md3tlwDAvlUm"
      },
      "execution_count": null,
      "outputs": []
    },
    {
      "cell_type": "code",
      "source": [
        "df = pd.merge(df,constructors[['constructorId','name','nationality']],on ='constructorId',how ='left')"
      ],
      "metadata": {
        "execution": {
          "iopub.status.busy": "2023-02-24T07:41:29.853649Z",
          "iopub.execute_input": "2023-02-24T07:41:29.854048Z",
          "iopub.status.idle": "2023-02-24T07:41:29.917342Z",
          "shell.execute_reply.started": "2023-02-24T07:41:29.853985Z",
          "shell.execute_reply": "2023-02-24T07:41:29.916151Z"
        },
        "trusted": true,
        "id": "3jddcQ5cvlfS"
      },
      "execution_count": null,
      "outputs": []
    },
    {
      "cell_type": "code",
      "source": [
        "df['Driver Name'] = df['forename'] +' '+ df['surname']"
      ],
      "metadata": {
        "id": "0eK_guVfAZr6"
      },
      "execution_count": null,
      "outputs": []
    },
    {
      "cell_type": "code",
      "source": [
        "# df.head()"
      ],
      "metadata": {
        "id": "HNbw71CtEgPy"
      },
      "execution_count": null,
      "outputs": []
    },
    {
      "cell_type": "markdown",
      "source": [
        "# Elimiando las columnas innecesarias\n"
      ],
      "metadata": {
        "id": "cKLIbfRztqLl"
      }
    },
    {
      "cell_type": "code",
      "source": [
        "df.drop(['number','position','positionText','laps','fastestLap','statusId','resultId','raceId','driverId','constructorId'],axis =1,inplace = True)\n",
        "df.head()"
      ],
      "metadata": {
        "execution": {
          "iopub.status.busy": "2023-02-24T07:41:29.920729Z",
          "iopub.execute_input": "2023-02-24T07:41:29.921245Z",
          "iopub.status.idle": "2023-02-24T07:41:29.942354Z",
          "shell.execute_reply.started": "2023-02-24T07:41:29.921197Z",
          "shell.execute_reply": "2023-02-24T07:41:29.941017Z"
        },
        "trusted": true,
        "id": "rgeYyZ1ntqLl",
        "colab": {
          "base_uri": "https://localhost:8080/",
          "height": 461
        },
        "outputId": "815d422b-36be-4141-8f8b-b6160c941983"
      },
      "execution_count": null,
      "outputs": [
        {
          "output_type": "execute_result",
          "data": {
            "text/plain": [
              "   grid  positionOrder  points         time milliseconds rank fastestLapTime  \\\n",
              "0     1              1    10.0  1:34:50.616      5690616    2       1:27.452   \n",
              "1     5              2     8.0       +5.478      5696094    3       1:27.739   \n",
              "2     7              3     6.0       +8.163      5698779    5       1:28.090   \n",
              "3    11              4     5.0      +17.181      5707797    7       1:28.603   \n",
              "4     3              5     4.0      +18.014      5708630    1       1:27.418   \n",
              "\n",
              "  fastestLapSpeed  year                 name_x  round   driverRef  \\\n",
              "0         218.300  2008  Australian Grand Prix      1    hamilton   \n",
              "1         217.586  2008  Australian Grand Prix      1    heidfeld   \n",
              "2         216.719  2008  Australian Grand Prix      1     rosberg   \n",
              "3         215.464  2008  Australian Grand Prix      1      alonso   \n",
              "4         218.385  2008  Australian Grand Prix      1  kovalainen   \n",
              "\n",
              "  nationality_x  forename     surname      name_y nationality_y  \\\n",
              "0       British     Lewis    Hamilton     McLaren       British   \n",
              "1        German      Nick    Heidfeld  BMW Sauber        German   \n",
              "2        German      Nico     Rosberg    Williams       British   \n",
              "3       Spanish  Fernando      Alonso     Renault        French   \n",
              "4       Finnish    Heikki  Kovalainen     McLaren       British   \n",
              "\n",
              "         Driver Name  \n",
              "0     Lewis Hamilton  \n",
              "1      Nick Heidfeld  \n",
              "2       Nico Rosberg  \n",
              "3    Fernando Alonso  \n",
              "4  Heikki Kovalainen  "
            ],
            "text/html": [
              "\n",
              "  <div id=\"df-d984a78d-8c9b-400a-acb2-0cfe833e1516\">\n",
              "    <div class=\"colab-df-container\">\n",
              "      <div>\n",
              "<style scoped>\n",
              "    .dataframe tbody tr th:only-of-type {\n",
              "        vertical-align: middle;\n",
              "    }\n",
              "\n",
              "    .dataframe tbody tr th {\n",
              "        vertical-align: top;\n",
              "    }\n",
              "\n",
              "    .dataframe thead th {\n",
              "        text-align: right;\n",
              "    }\n",
              "</style>\n",
              "<table border=\"1\" class=\"dataframe\">\n",
              "  <thead>\n",
              "    <tr style=\"text-align: right;\">\n",
              "      <th></th>\n",
              "      <th>grid</th>\n",
              "      <th>positionOrder</th>\n",
              "      <th>points</th>\n",
              "      <th>time</th>\n",
              "      <th>milliseconds</th>\n",
              "      <th>rank</th>\n",
              "      <th>fastestLapTime</th>\n",
              "      <th>fastestLapSpeed</th>\n",
              "      <th>year</th>\n",
              "      <th>name_x</th>\n",
              "      <th>round</th>\n",
              "      <th>driverRef</th>\n",
              "      <th>nationality_x</th>\n",
              "      <th>forename</th>\n",
              "      <th>surname</th>\n",
              "      <th>name_y</th>\n",
              "      <th>nationality_y</th>\n",
              "      <th>Driver Name</th>\n",
              "    </tr>\n",
              "  </thead>\n",
              "  <tbody>\n",
              "    <tr>\n",
              "      <th>0</th>\n",
              "      <td>1</td>\n",
              "      <td>1</td>\n",
              "      <td>10.0</td>\n",
              "      <td>1:34:50.616</td>\n",
              "      <td>5690616</td>\n",
              "      <td>2</td>\n",
              "      <td>1:27.452</td>\n",
              "      <td>218.300</td>\n",
              "      <td>2008</td>\n",
              "      <td>Australian Grand Prix</td>\n",
              "      <td>1</td>\n",
              "      <td>hamilton</td>\n",
              "      <td>British</td>\n",
              "      <td>Lewis</td>\n",
              "      <td>Hamilton</td>\n",
              "      <td>McLaren</td>\n",
              "      <td>British</td>\n",
              "      <td>Lewis Hamilton</td>\n",
              "    </tr>\n",
              "    <tr>\n",
              "      <th>1</th>\n",
              "      <td>5</td>\n",
              "      <td>2</td>\n",
              "      <td>8.0</td>\n",
              "      <td>+5.478</td>\n",
              "      <td>5696094</td>\n",
              "      <td>3</td>\n",
              "      <td>1:27.739</td>\n",
              "      <td>217.586</td>\n",
              "      <td>2008</td>\n",
              "      <td>Australian Grand Prix</td>\n",
              "      <td>1</td>\n",
              "      <td>heidfeld</td>\n",
              "      <td>German</td>\n",
              "      <td>Nick</td>\n",
              "      <td>Heidfeld</td>\n",
              "      <td>BMW Sauber</td>\n",
              "      <td>German</td>\n",
              "      <td>Nick Heidfeld</td>\n",
              "    </tr>\n",
              "    <tr>\n",
              "      <th>2</th>\n",
              "      <td>7</td>\n",
              "      <td>3</td>\n",
              "      <td>6.0</td>\n",
              "      <td>+8.163</td>\n",
              "      <td>5698779</td>\n",
              "      <td>5</td>\n",
              "      <td>1:28.090</td>\n",
              "      <td>216.719</td>\n",
              "      <td>2008</td>\n",
              "      <td>Australian Grand Prix</td>\n",
              "      <td>1</td>\n",
              "      <td>rosberg</td>\n",
              "      <td>German</td>\n",
              "      <td>Nico</td>\n",
              "      <td>Rosberg</td>\n",
              "      <td>Williams</td>\n",
              "      <td>British</td>\n",
              "      <td>Nico Rosberg</td>\n",
              "    </tr>\n",
              "    <tr>\n",
              "      <th>3</th>\n",
              "      <td>11</td>\n",
              "      <td>4</td>\n",
              "      <td>5.0</td>\n",
              "      <td>+17.181</td>\n",
              "      <td>5707797</td>\n",
              "      <td>7</td>\n",
              "      <td>1:28.603</td>\n",
              "      <td>215.464</td>\n",
              "      <td>2008</td>\n",
              "      <td>Australian Grand Prix</td>\n",
              "      <td>1</td>\n",
              "      <td>alonso</td>\n",
              "      <td>Spanish</td>\n",
              "      <td>Fernando</td>\n",
              "      <td>Alonso</td>\n",
              "      <td>Renault</td>\n",
              "      <td>French</td>\n",
              "      <td>Fernando Alonso</td>\n",
              "    </tr>\n",
              "    <tr>\n",
              "      <th>4</th>\n",
              "      <td>3</td>\n",
              "      <td>5</td>\n",
              "      <td>4.0</td>\n",
              "      <td>+18.014</td>\n",
              "      <td>5708630</td>\n",
              "      <td>1</td>\n",
              "      <td>1:27.418</td>\n",
              "      <td>218.385</td>\n",
              "      <td>2008</td>\n",
              "      <td>Australian Grand Prix</td>\n",
              "      <td>1</td>\n",
              "      <td>kovalainen</td>\n",
              "      <td>Finnish</td>\n",
              "      <td>Heikki</td>\n",
              "      <td>Kovalainen</td>\n",
              "      <td>McLaren</td>\n",
              "      <td>British</td>\n",
              "      <td>Heikki Kovalainen</td>\n",
              "    </tr>\n",
              "  </tbody>\n",
              "</table>\n",
              "</div>\n",
              "      <button class=\"colab-df-convert\" onclick=\"convertToInteractive('df-d984a78d-8c9b-400a-acb2-0cfe833e1516')\"\n",
              "              title=\"Convert this dataframe to an interactive table.\"\n",
              "              style=\"display:none;\">\n",
              "        \n",
              "  <svg xmlns=\"http://www.w3.org/2000/svg\" height=\"24px\"viewBox=\"0 0 24 24\"\n",
              "       width=\"24px\">\n",
              "    <path d=\"M0 0h24v24H0V0z\" fill=\"none\"/>\n",
              "    <path d=\"M18.56 5.44l.94 2.06.94-2.06 2.06-.94-2.06-.94-.94-2.06-.94 2.06-2.06.94zm-11 1L8.5 8.5l.94-2.06 2.06-.94-2.06-.94L8.5 2.5l-.94 2.06-2.06.94zm10 10l.94 2.06.94-2.06 2.06-.94-2.06-.94-.94-2.06-.94 2.06-2.06.94z\"/><path d=\"M17.41 7.96l-1.37-1.37c-.4-.4-.92-.59-1.43-.59-.52 0-1.04.2-1.43.59L10.3 9.45l-7.72 7.72c-.78.78-.78 2.05 0 2.83L4 21.41c.39.39.9.59 1.41.59.51 0 1.02-.2 1.41-.59l7.78-7.78 2.81-2.81c.8-.78.8-2.07 0-2.86zM5.41 20L4 18.59l7.72-7.72 1.47 1.35L5.41 20z\"/>\n",
              "  </svg>\n",
              "      </button>\n",
              "      \n",
              "  <style>\n",
              "    .colab-df-container {\n",
              "      display:flex;\n",
              "      flex-wrap:wrap;\n",
              "      gap: 12px;\n",
              "    }\n",
              "\n",
              "    .colab-df-convert {\n",
              "      background-color: #E8F0FE;\n",
              "      border: none;\n",
              "      border-radius: 50%;\n",
              "      cursor: pointer;\n",
              "      display: none;\n",
              "      fill: #1967D2;\n",
              "      height: 32px;\n",
              "      padding: 0 0 0 0;\n",
              "      width: 32px;\n",
              "    }\n",
              "\n",
              "    .colab-df-convert:hover {\n",
              "      background-color: #E2EBFA;\n",
              "      box-shadow: 0px 1px 2px rgba(60, 64, 67, 0.3), 0px 1px 3px 1px rgba(60, 64, 67, 0.15);\n",
              "      fill: #174EA6;\n",
              "    }\n",
              "\n",
              "    [theme=dark] .colab-df-convert {\n",
              "      background-color: #3B4455;\n",
              "      fill: #D2E3FC;\n",
              "    }\n",
              "\n",
              "    [theme=dark] .colab-df-convert:hover {\n",
              "      background-color: #434B5C;\n",
              "      box-shadow: 0px 1px 3px 1px rgba(0, 0, 0, 0.15);\n",
              "      filter: drop-shadow(0px 1px 2px rgba(0, 0, 0, 0.3));\n",
              "      fill: #FFFFFF;\n",
              "    }\n",
              "  </style>\n",
              "\n",
              "      <script>\n",
              "        const buttonEl =\n",
              "          document.querySelector('#df-d984a78d-8c9b-400a-acb2-0cfe833e1516 button.colab-df-convert');\n",
              "        buttonEl.style.display =\n",
              "          google.colab.kernel.accessAllowed ? 'block' : 'none';\n",
              "\n",
              "        async function convertToInteractive(key) {\n",
              "          const element = document.querySelector('#df-d984a78d-8c9b-400a-acb2-0cfe833e1516');\n",
              "          const dataTable =\n",
              "            await google.colab.kernel.invokeFunction('convertToInteractive',\n",
              "                                                     [key], {});\n",
              "          if (!dataTable) return;\n",
              "\n",
              "          const docLinkHtml = 'Like what you see? Visit the ' +\n",
              "            '<a target=\"_blank\" href=https://colab.research.google.com/notebooks/data_table.ipynb>data table notebook</a>'\n",
              "            + ' to learn more about interactive tables.';\n",
              "          element.innerHTML = '';\n",
              "          dataTable['output_type'] = 'display_data';\n",
              "          await google.colab.output.renderOutput(dataTable, element);\n",
              "          const docLink = document.createElement('div');\n",
              "          docLink.innerHTML = docLinkHtml;\n",
              "          element.appendChild(docLink);\n",
              "        }\n",
              "      </script>\n",
              "    </div>\n",
              "  </div>\n",
              "  "
            ]
          },
          "metadata": {},
          "execution_count": 52
        }
      ]
    },
    {
      "cell_type": "markdown",
      "source": [
        "# Renombrando las columnas"
      ],
      "metadata": {
        "id": "xuaLRM7mtqLl"
      }
    },
    {
      "cell_type": "code",
      "source": [
        "df.rename(columns = {'rank':'fastest_lap_rank','name_x':'gp_name','nationality_x':'driver_nationality',\n",
        "                    'name_y':'Constructor Name','nationality_y':'constructor_nationality','driverRef':'driver'},inplace = True)\n",
        "# df.head()"
      ],
      "metadata": {
        "execution": {
          "iopub.status.busy": "2023-02-24T07:41:29.943714Z",
          "iopub.execute_input": "2023-02-24T07:41:29.944097Z",
          "iopub.status.idle": "2023-02-24T07:41:29.951308Z",
          "shell.execute_reply.started": "2023-02-24T07:41:29.944063Z",
          "shell.execute_reply": "2023-02-24T07:41:29.949985Z"
        },
        "trusted": true,
        "id": "VqS2yZU8tqLl"
      },
      "execution_count": null,
      "outputs": []
    },
    {
      "cell_type": "code",
      "source": [
        "df.head()"
      ],
      "metadata": {
        "colab": {
          "base_uri": "https://localhost:8080/",
          "height": 461
        },
        "id": "z8LvexfkPJQ7",
        "outputId": "adc1feed-d6b5-4c87-90e1-68123a667339"
      },
      "execution_count": null,
      "outputs": [
        {
          "output_type": "execute_result",
          "data": {
            "text/plain": [
              "   grid  positionOrder  points         time milliseconds fastest_lap_rank  \\\n",
              "0     1              1    10.0  1:34:50.616      5690616                2   \n",
              "1     5              2     8.0       +5.478      5696094                3   \n",
              "2     7              3     6.0       +8.163      5698779                5   \n",
              "3    11              4     5.0      +17.181      5707797                7   \n",
              "4     3              5     4.0      +18.014      5708630                1   \n",
              "\n",
              "  fastestLapTime fastestLapSpeed  year                gp_name  round  \\\n",
              "0       1:27.452         218.300  2008  Australian Grand Prix      1   \n",
              "1       1:27.739         217.586  2008  Australian Grand Prix      1   \n",
              "2       1:28.090         216.719  2008  Australian Grand Prix      1   \n",
              "3       1:28.603         215.464  2008  Australian Grand Prix      1   \n",
              "4       1:27.418         218.385  2008  Australian Grand Prix      1   \n",
              "\n",
              "       driver driver_nationality  forename     surname Constructor Name  \\\n",
              "0    hamilton            British     Lewis    Hamilton          McLaren   \n",
              "1    heidfeld             German      Nick    Heidfeld       BMW Sauber   \n",
              "2     rosberg             German      Nico     Rosberg         Williams   \n",
              "3      alonso            Spanish  Fernando      Alonso          Renault   \n",
              "4  kovalainen            Finnish    Heikki  Kovalainen          McLaren   \n",
              "\n",
              "  constructor_nationality        Driver Name  \n",
              "0                 British     Lewis Hamilton  \n",
              "1                  German      Nick Heidfeld  \n",
              "2                 British       Nico Rosberg  \n",
              "3                  French    Fernando Alonso  \n",
              "4                 British  Heikki Kovalainen  "
            ],
            "text/html": [
              "\n",
              "  <div id=\"df-0777e4c4-4731-46bb-a50c-e7179a58fc82\">\n",
              "    <div class=\"colab-df-container\">\n",
              "      <div>\n",
              "<style scoped>\n",
              "    .dataframe tbody tr th:only-of-type {\n",
              "        vertical-align: middle;\n",
              "    }\n",
              "\n",
              "    .dataframe tbody tr th {\n",
              "        vertical-align: top;\n",
              "    }\n",
              "\n",
              "    .dataframe thead th {\n",
              "        text-align: right;\n",
              "    }\n",
              "</style>\n",
              "<table border=\"1\" class=\"dataframe\">\n",
              "  <thead>\n",
              "    <tr style=\"text-align: right;\">\n",
              "      <th></th>\n",
              "      <th>grid</th>\n",
              "      <th>positionOrder</th>\n",
              "      <th>points</th>\n",
              "      <th>time</th>\n",
              "      <th>milliseconds</th>\n",
              "      <th>fastest_lap_rank</th>\n",
              "      <th>fastestLapTime</th>\n",
              "      <th>fastestLapSpeed</th>\n",
              "      <th>year</th>\n",
              "      <th>gp_name</th>\n",
              "      <th>round</th>\n",
              "      <th>driver</th>\n",
              "      <th>driver_nationality</th>\n",
              "      <th>forename</th>\n",
              "      <th>surname</th>\n",
              "      <th>Constructor Name</th>\n",
              "      <th>constructor_nationality</th>\n",
              "      <th>Driver Name</th>\n",
              "    </tr>\n",
              "  </thead>\n",
              "  <tbody>\n",
              "    <tr>\n",
              "      <th>0</th>\n",
              "      <td>1</td>\n",
              "      <td>1</td>\n",
              "      <td>10.0</td>\n",
              "      <td>1:34:50.616</td>\n",
              "      <td>5690616</td>\n",
              "      <td>2</td>\n",
              "      <td>1:27.452</td>\n",
              "      <td>218.300</td>\n",
              "      <td>2008</td>\n",
              "      <td>Australian Grand Prix</td>\n",
              "      <td>1</td>\n",
              "      <td>hamilton</td>\n",
              "      <td>British</td>\n",
              "      <td>Lewis</td>\n",
              "      <td>Hamilton</td>\n",
              "      <td>McLaren</td>\n",
              "      <td>British</td>\n",
              "      <td>Lewis Hamilton</td>\n",
              "    </tr>\n",
              "    <tr>\n",
              "      <th>1</th>\n",
              "      <td>5</td>\n",
              "      <td>2</td>\n",
              "      <td>8.0</td>\n",
              "      <td>+5.478</td>\n",
              "      <td>5696094</td>\n",
              "      <td>3</td>\n",
              "      <td>1:27.739</td>\n",
              "      <td>217.586</td>\n",
              "      <td>2008</td>\n",
              "      <td>Australian Grand Prix</td>\n",
              "      <td>1</td>\n",
              "      <td>heidfeld</td>\n",
              "      <td>German</td>\n",
              "      <td>Nick</td>\n",
              "      <td>Heidfeld</td>\n",
              "      <td>BMW Sauber</td>\n",
              "      <td>German</td>\n",
              "      <td>Nick Heidfeld</td>\n",
              "    </tr>\n",
              "    <tr>\n",
              "      <th>2</th>\n",
              "      <td>7</td>\n",
              "      <td>3</td>\n",
              "      <td>6.0</td>\n",
              "      <td>+8.163</td>\n",
              "      <td>5698779</td>\n",
              "      <td>5</td>\n",
              "      <td>1:28.090</td>\n",
              "      <td>216.719</td>\n",
              "      <td>2008</td>\n",
              "      <td>Australian Grand Prix</td>\n",
              "      <td>1</td>\n",
              "      <td>rosberg</td>\n",
              "      <td>German</td>\n",
              "      <td>Nico</td>\n",
              "      <td>Rosberg</td>\n",
              "      <td>Williams</td>\n",
              "      <td>British</td>\n",
              "      <td>Nico Rosberg</td>\n",
              "    </tr>\n",
              "    <tr>\n",
              "      <th>3</th>\n",
              "      <td>11</td>\n",
              "      <td>4</td>\n",
              "      <td>5.0</td>\n",
              "      <td>+17.181</td>\n",
              "      <td>5707797</td>\n",
              "      <td>7</td>\n",
              "      <td>1:28.603</td>\n",
              "      <td>215.464</td>\n",
              "      <td>2008</td>\n",
              "      <td>Australian Grand Prix</td>\n",
              "      <td>1</td>\n",
              "      <td>alonso</td>\n",
              "      <td>Spanish</td>\n",
              "      <td>Fernando</td>\n",
              "      <td>Alonso</td>\n",
              "      <td>Renault</td>\n",
              "      <td>French</td>\n",
              "      <td>Fernando Alonso</td>\n",
              "    </tr>\n",
              "    <tr>\n",
              "      <th>4</th>\n",
              "      <td>3</td>\n",
              "      <td>5</td>\n",
              "      <td>4.0</td>\n",
              "      <td>+18.014</td>\n",
              "      <td>5708630</td>\n",
              "      <td>1</td>\n",
              "      <td>1:27.418</td>\n",
              "      <td>218.385</td>\n",
              "      <td>2008</td>\n",
              "      <td>Australian Grand Prix</td>\n",
              "      <td>1</td>\n",
              "      <td>kovalainen</td>\n",
              "      <td>Finnish</td>\n",
              "      <td>Heikki</td>\n",
              "      <td>Kovalainen</td>\n",
              "      <td>McLaren</td>\n",
              "      <td>British</td>\n",
              "      <td>Heikki Kovalainen</td>\n",
              "    </tr>\n",
              "  </tbody>\n",
              "</table>\n",
              "</div>\n",
              "      <button class=\"colab-df-convert\" onclick=\"convertToInteractive('df-0777e4c4-4731-46bb-a50c-e7179a58fc82')\"\n",
              "              title=\"Convert this dataframe to an interactive table.\"\n",
              "              style=\"display:none;\">\n",
              "        \n",
              "  <svg xmlns=\"http://www.w3.org/2000/svg\" height=\"24px\"viewBox=\"0 0 24 24\"\n",
              "       width=\"24px\">\n",
              "    <path d=\"M0 0h24v24H0V0z\" fill=\"none\"/>\n",
              "    <path d=\"M18.56 5.44l.94 2.06.94-2.06 2.06-.94-2.06-.94-.94-2.06-.94 2.06-2.06.94zm-11 1L8.5 8.5l.94-2.06 2.06-.94-2.06-.94L8.5 2.5l-.94 2.06-2.06.94zm10 10l.94 2.06.94-2.06 2.06-.94-2.06-.94-.94-2.06-.94 2.06-2.06.94z\"/><path d=\"M17.41 7.96l-1.37-1.37c-.4-.4-.92-.59-1.43-.59-.52 0-1.04.2-1.43.59L10.3 9.45l-7.72 7.72c-.78.78-.78 2.05 0 2.83L4 21.41c.39.39.9.59 1.41.59.51 0 1.02-.2 1.41-.59l7.78-7.78 2.81-2.81c.8-.78.8-2.07 0-2.86zM5.41 20L4 18.59l7.72-7.72 1.47 1.35L5.41 20z\"/>\n",
              "  </svg>\n",
              "      </button>\n",
              "      \n",
              "  <style>\n",
              "    .colab-df-container {\n",
              "      display:flex;\n",
              "      flex-wrap:wrap;\n",
              "      gap: 12px;\n",
              "    }\n",
              "\n",
              "    .colab-df-convert {\n",
              "      background-color: #E8F0FE;\n",
              "      border: none;\n",
              "      border-radius: 50%;\n",
              "      cursor: pointer;\n",
              "      display: none;\n",
              "      fill: #1967D2;\n",
              "      height: 32px;\n",
              "      padding: 0 0 0 0;\n",
              "      width: 32px;\n",
              "    }\n",
              "\n",
              "    .colab-df-convert:hover {\n",
              "      background-color: #E2EBFA;\n",
              "      box-shadow: 0px 1px 2px rgba(60, 64, 67, 0.3), 0px 1px 3px 1px rgba(60, 64, 67, 0.15);\n",
              "      fill: #174EA6;\n",
              "    }\n",
              "\n",
              "    [theme=dark] .colab-df-convert {\n",
              "      background-color: #3B4455;\n",
              "      fill: #D2E3FC;\n",
              "    }\n",
              "\n",
              "    [theme=dark] .colab-df-convert:hover {\n",
              "      background-color: #434B5C;\n",
              "      box-shadow: 0px 1px 3px 1px rgba(0, 0, 0, 0.15);\n",
              "      filter: drop-shadow(0px 1px 2px rgba(0, 0, 0, 0.3));\n",
              "      fill: #FFFFFF;\n",
              "    }\n",
              "  </style>\n",
              "\n",
              "      <script>\n",
              "        const buttonEl =\n",
              "          document.querySelector('#df-0777e4c4-4731-46bb-a50c-e7179a58fc82 button.colab-df-convert');\n",
              "        buttonEl.style.display =\n",
              "          google.colab.kernel.accessAllowed ? 'block' : 'none';\n",
              "\n",
              "        async function convertToInteractive(key) {\n",
              "          const element = document.querySelector('#df-0777e4c4-4731-46bb-a50c-e7179a58fc82');\n",
              "          const dataTable =\n",
              "            await google.colab.kernel.invokeFunction('convertToInteractive',\n",
              "                                                     [key], {});\n",
              "          if (!dataTable) return;\n",
              "\n",
              "          const docLinkHtml = 'Like what you see? Visit the ' +\n",
              "            '<a target=\"_blank\" href=https://colab.research.google.com/notebooks/data_table.ipynb>data table notebook</a>'\n",
              "            + ' to learn more about interactive tables.';\n",
              "          element.innerHTML = '';\n",
              "          dataTable['output_type'] = 'display_data';\n",
              "          await google.colab.output.renderOutput(dataTable, element);\n",
              "          const docLink = document.createElement('div');\n",
              "          docLink.innerHTML = docLinkHtml;\n",
              "          element.appendChild(docLink);\n",
              "        }\n",
              "      </script>\n",
              "    </div>\n",
              "  </div>\n",
              "  "
            ]
          },
          "metadata": {},
          "execution_count": 54
        }
      ]
    },
    {
      "cell_type": "markdown",
      "source": [
        "# Reacomodando las columnas"
      ],
      "metadata": {
        "id": "bZs39OW5tqLm"
      }
    },
    {
      "cell_type": "code",
      "source": [
        "df = df[['year','gp_name','round','driver','Driver Name','Constructor Name','grid','positionOrder','points','time',\n",
        "         'milliseconds','fastest_lap_rank','fastestLapTime','fastestLapSpeed',\n",
        "        'driver_nationality','constructor_nationality']]\n",
        "\n",
        "# df.head()        "
      ],
      "metadata": {
        "execution": {
          "iopub.status.busy": "2023-02-24T07:41:29.952733Z",
          "iopub.execute_input": "2023-02-24T07:41:29.95378Z",
          "iopub.status.idle": "2023-02-24T07:41:29.968333Z",
          "shell.execute_reply.started": "2023-02-24T07:41:29.953727Z",
          "shell.execute_reply": "2023-02-24T07:41:29.967045Z"
        },
        "trusted": true,
        "id": "Kbs9VLLttqLm"
      },
      "execution_count": null,
      "outputs": []
    },
    {
      "cell_type": "markdown",
      "source": [
        "#Eliminamos valores anteriores al 2004, ya que no cuentan con los resultados necesarios para graficar"
      ],
      "metadata": {
        "id": "y-8keFdke4CR"
      }
    },
    {
      "cell_type": "code",
      "source": [
        "df= df[df['year']>=2004]"
      ],
      "metadata": {
        "execution": {
          "iopub.status.busy": "2023-02-24T07:41:29.970507Z",
          "iopub.execute_input": "2023-02-24T07:41:29.971048Z",
          "iopub.status.idle": "2023-02-24T07:41:29.985378Z",
          "shell.execute_reply.started": "2023-02-24T07:41:29.970978Z",
          "shell.execute_reply": "2023-02-24T07:41:29.984278Z"
        },
        "trusted": true,
        "id": "2kXGq4x7tqLm"
      },
      "execution_count": null,
      "outputs": []
    },
    {
      "cell_type": "markdown",
      "source": [
        "#Ordenando los valores"
      ],
      "metadata": {
        "id": "-E3IOFdJtqLm"
      }
    },
    {
      "cell_type": "code",
      "source": [
        "# df = df.sort_values(by =['year','round','positionOrder','fastestLapTime'],ascending=[False,True,True,True])"
      ],
      "metadata": {
        "execution": {
          "iopub.status.busy": "2023-02-24T07:41:29.986878Z",
          "iopub.execute_input": "2023-02-24T07:41:29.987357Z",
          "iopub.status.idle": "2023-02-24T07:41:30.006031Z",
          "shell.execute_reply.started": "2023-02-24T07:41:29.987313Z",
          "shell.execute_reply": "2023-02-24T07:41:30.004758Z"
        },
        "trusted": true,
        "id": "bAjMUHYmtqLm"
      },
      "execution_count": null,
      "outputs": []
    },
    {
      "cell_type": "code",
      "source": [
        "df = df.sort_values(by =['fastestLapTime'],ascending=[True])"
      ],
      "metadata": {
        "execution": {
          "iopub.status.busy": "2023-02-24T07:41:29.986878Z",
          "iopub.execute_input": "2023-02-24T07:41:29.987357Z",
          "iopub.status.idle": "2023-02-24T07:41:30.006031Z",
          "shell.execute_reply.started": "2023-02-24T07:41:29.987313Z",
          "shell.execute_reply": "2023-02-24T07:41:30.004758Z"
        },
        "trusted": true,
        "id": "SLp0ZUAvJim7"
      },
      "execution_count": null,
      "outputs": []
    },
    {
      "cell_type": "code",
      "source": [
        "df.info()"
      ],
      "metadata": {
        "colab": {
          "base_uri": "https://localhost:8080/"
        },
        "id": "05vobH9NiCAy",
        "outputId": "77f18553-5696-4922-b654-cb7bbd1a9a03"
      },
      "execution_count": null,
      "outputs": [
        {
          "output_type": "stream",
          "name": "stdout",
          "text": [
            "<class 'pandas.core.frame.DataFrame'>\n",
            "Int64Index: 7731 entries, 24928 to 22495\n",
            "Data columns (total 16 columns):\n",
            " #   Column                   Non-Null Count  Dtype  \n",
            "---  ------                   --------------  -----  \n",
            " 0   year                     7731 non-null   int64  \n",
            " 1   gp_name                  7731 non-null   object \n",
            " 2   round                    7731 non-null   int64  \n",
            " 3   driver                   7731 non-null   object \n",
            " 4   Driver Name              7731 non-null   object \n",
            " 5   Constructor Name         7731 non-null   object \n",
            " 6   grid                     7731 non-null   int64  \n",
            " 7   positionOrder            7731 non-null   int64  \n",
            " 8   points                   7731 non-null   float64\n",
            " 9   time                     7731 non-null   object \n",
            " 10  milliseconds             7731 non-null   object \n",
            " 11  fastest_lap_rank         7731 non-null   object \n",
            " 12  fastestLapTime           7731 non-null   object \n",
            " 13  fastestLapSpeed          7731 non-null   object \n",
            " 14  driver_nationality       7731 non-null   object \n",
            " 15  constructor_nationality  7731 non-null   object \n",
            "dtypes: float64(1), int64(4), object(11)\n",
            "memory usage: 1.0+ MB\n"
          ]
        }
      ]
    },
    {
      "cell_type": "code",
      "source": [
        "# df.fastestLapTime = df.fastestLapTime.astype('datetime64[ns]')\n",
        "# df['fastestLapTime'] = df['fastestLapTime'].dt.time"
      ],
      "metadata": {
        "id": "j2PoYtFioeT1",
        "colab": {
          "base_uri": "https://localhost:8080/",
          "height": 455
        },
        "outputId": "e9d1475e-ef6f-4292-9e04-ce2820b0ffe3"
      },
      "execution_count": null,
      "outputs": [
        {
          "output_type": "error",
          "ename": "ParserError",
          "evalue": "ignored",
          "traceback": [
            "\u001b[0;31m---------------------------------------------------------------------------\u001b[0m",
            "\u001b[0;31mTypeError\u001b[0m                                 Traceback (most recent call last)",
            "\u001b[0;32m/usr/local/lib/python3.8/dist-packages/pandas/core/arrays/datetimes.py\u001b[0m in \u001b[0;36mobjects_to_datetime64ns\u001b[0;34m(data, dayfirst, yearfirst, utc, errors, require_iso8601, allow_object, allow_mixed)\u001b[0m\n\u001b[1;32m   2191\u001b[0m         \u001b[0;32mtry\u001b[0m\u001b[0;34m:\u001b[0m\u001b[0;34m\u001b[0m\u001b[0;34m\u001b[0m\u001b[0m\n\u001b[0;32m-> 2192\u001b[0;31m             \u001b[0mvalues\u001b[0m\u001b[0;34m,\u001b[0m \u001b[0mtz_parsed\u001b[0m \u001b[0;34m=\u001b[0m \u001b[0mconversion\u001b[0m\u001b[0;34m.\u001b[0m\u001b[0mdatetime_to_datetime64\u001b[0m\u001b[0;34m(\u001b[0m\u001b[0mdata\u001b[0m\u001b[0;34m.\u001b[0m\u001b[0mravel\u001b[0m\u001b[0;34m(\u001b[0m\u001b[0;34m\"K\"\u001b[0m\u001b[0;34m)\u001b[0m\u001b[0;34m)\u001b[0m\u001b[0;34m\u001b[0m\u001b[0;34m\u001b[0m\u001b[0m\n\u001b[0m\u001b[1;32m   2193\u001b[0m             \u001b[0;31m# If tzaware, these values represent unix timestamps, so we\u001b[0m\u001b[0;34m\u001b[0m\u001b[0;34m\u001b[0m\u001b[0;34m\u001b[0m\u001b[0m\n",
            "\u001b[0;32m/usr/local/lib/python3.8/dist-packages/pandas/_libs/tslibs/conversion.pyx\u001b[0m in \u001b[0;36mpandas._libs.tslibs.conversion.datetime_to_datetime64\u001b[0;34m()\u001b[0m\n",
            "\u001b[0;31mTypeError\u001b[0m: Unrecognized value type: <class 'str'>",
            "\nDuring handling of the above exception, another exception occurred:\n",
            "\u001b[0;31mParserError\u001b[0m                               Traceback (most recent call last)",
            "\u001b[0;32m<ipython-input-60-d49544219a49>\u001b[0m in \u001b[0;36m<module>\u001b[0;34m\u001b[0m\n\u001b[0;32m----> 1\u001b[0;31m \u001b[0mdf\u001b[0m\u001b[0;34m.\u001b[0m\u001b[0mfastestLapTime\u001b[0m \u001b[0;34m=\u001b[0m \u001b[0mdf\u001b[0m\u001b[0;34m.\u001b[0m\u001b[0mfastestLapTime\u001b[0m\u001b[0;34m.\u001b[0m\u001b[0mastype\u001b[0m\u001b[0;34m(\u001b[0m\u001b[0;34m'datetime64[ns]'\u001b[0m\u001b[0;34m)\u001b[0m\u001b[0;34m\u001b[0m\u001b[0;34m\u001b[0m\u001b[0m\n\u001b[0m\u001b[1;32m      2\u001b[0m \u001b[0mdf\u001b[0m\u001b[0;34m[\u001b[0m\u001b[0;34m'fastestLapTime'\u001b[0m\u001b[0;34m]\u001b[0m \u001b[0;34m=\u001b[0m \u001b[0mdf\u001b[0m\u001b[0;34m[\u001b[0m\u001b[0;34m'fastestLapTime'\u001b[0m\u001b[0;34m]\u001b[0m\u001b[0;34m.\u001b[0m\u001b[0mdt\u001b[0m\u001b[0;34m.\u001b[0m\u001b[0mtime\u001b[0m\u001b[0;34m\u001b[0m\u001b[0;34m\u001b[0m\u001b[0m\n",
            "\u001b[0;32m/usr/local/lib/python3.8/dist-packages/pandas/core/generic.py\u001b[0m in \u001b[0;36mastype\u001b[0;34m(self, dtype, copy, errors)\u001b[0m\n\u001b[1;32m   5813\u001b[0m         \u001b[0;32melse\u001b[0m\u001b[0;34m:\u001b[0m\u001b[0;34m\u001b[0m\u001b[0;34m\u001b[0m\u001b[0m\n\u001b[1;32m   5814\u001b[0m             \u001b[0;31m# else, only a single dtype is given\u001b[0m\u001b[0;34m\u001b[0m\u001b[0;34m\u001b[0m\u001b[0;34m\u001b[0m\u001b[0m\n\u001b[0;32m-> 5815\u001b[0;31m             \u001b[0mnew_data\u001b[0m \u001b[0;34m=\u001b[0m \u001b[0mself\u001b[0m\u001b[0;34m.\u001b[0m\u001b[0m_mgr\u001b[0m\u001b[0;34m.\u001b[0m\u001b[0mastype\u001b[0m\u001b[0;34m(\u001b[0m\u001b[0mdtype\u001b[0m\u001b[0;34m=\u001b[0m\u001b[0mdtype\u001b[0m\u001b[0;34m,\u001b[0m \u001b[0mcopy\u001b[0m\u001b[0;34m=\u001b[0m\u001b[0mcopy\u001b[0m\u001b[0;34m,\u001b[0m \u001b[0merrors\u001b[0m\u001b[0;34m=\u001b[0m\u001b[0merrors\u001b[0m\u001b[0;34m)\u001b[0m\u001b[0;34m\u001b[0m\u001b[0;34m\u001b[0m\u001b[0m\n\u001b[0m\u001b[1;32m   5816\u001b[0m             \u001b[0;32mreturn\u001b[0m \u001b[0mself\u001b[0m\u001b[0;34m.\u001b[0m\u001b[0m_constructor\u001b[0m\u001b[0;34m(\u001b[0m\u001b[0mnew_data\u001b[0m\u001b[0;34m)\u001b[0m\u001b[0;34m.\u001b[0m\u001b[0m__finalize__\u001b[0m\u001b[0;34m(\u001b[0m\u001b[0mself\u001b[0m\u001b[0;34m,\u001b[0m \u001b[0mmethod\u001b[0m\u001b[0;34m=\u001b[0m\u001b[0;34m\"astype\"\u001b[0m\u001b[0;34m)\u001b[0m\u001b[0;34m\u001b[0m\u001b[0;34m\u001b[0m\u001b[0m\n\u001b[1;32m   5817\u001b[0m \u001b[0;34m\u001b[0m\u001b[0m\n",
            "\u001b[0;32m/usr/local/lib/python3.8/dist-packages/pandas/core/internals/managers.py\u001b[0m in \u001b[0;36mastype\u001b[0;34m(self, dtype, copy, errors)\u001b[0m\n\u001b[1;32m    416\u001b[0m \u001b[0;34m\u001b[0m\u001b[0m\n\u001b[1;32m    417\u001b[0m     \u001b[0;32mdef\u001b[0m \u001b[0mastype\u001b[0m\u001b[0;34m(\u001b[0m\u001b[0mself\u001b[0m\u001b[0;34m:\u001b[0m \u001b[0mT\u001b[0m\u001b[0;34m,\u001b[0m \u001b[0mdtype\u001b[0m\u001b[0;34m,\u001b[0m \u001b[0mcopy\u001b[0m\u001b[0;34m:\u001b[0m \u001b[0mbool\u001b[0m \u001b[0;34m=\u001b[0m \u001b[0;32mFalse\u001b[0m\u001b[0;34m,\u001b[0m \u001b[0merrors\u001b[0m\u001b[0;34m:\u001b[0m \u001b[0mstr\u001b[0m \u001b[0;34m=\u001b[0m \u001b[0;34m\"raise\"\u001b[0m\u001b[0;34m)\u001b[0m \u001b[0;34m->\u001b[0m \u001b[0mT\u001b[0m\u001b[0;34m:\u001b[0m\u001b[0;34m\u001b[0m\u001b[0;34m\u001b[0m\u001b[0m\n\u001b[0;32m--> 418\u001b[0;31m         \u001b[0;32mreturn\u001b[0m \u001b[0mself\u001b[0m\u001b[0;34m.\u001b[0m\u001b[0mapply\u001b[0m\u001b[0;34m(\u001b[0m\u001b[0;34m\"astype\"\u001b[0m\u001b[0;34m,\u001b[0m \u001b[0mdtype\u001b[0m\u001b[0;34m=\u001b[0m\u001b[0mdtype\u001b[0m\u001b[0;34m,\u001b[0m \u001b[0mcopy\u001b[0m\u001b[0;34m=\u001b[0m\u001b[0mcopy\u001b[0m\u001b[0;34m,\u001b[0m \u001b[0merrors\u001b[0m\u001b[0;34m=\u001b[0m\u001b[0merrors\u001b[0m\u001b[0;34m)\u001b[0m\u001b[0;34m\u001b[0m\u001b[0;34m\u001b[0m\u001b[0m\n\u001b[0m\u001b[1;32m    419\u001b[0m \u001b[0;34m\u001b[0m\u001b[0m\n\u001b[1;32m    420\u001b[0m     def convert(\n",
            "\u001b[0;32m/usr/local/lib/python3.8/dist-packages/pandas/core/internals/managers.py\u001b[0m in \u001b[0;36mapply\u001b[0;34m(self, f, align_keys, ignore_failures, **kwargs)\u001b[0m\n\u001b[1;32m    325\u001b[0m                     \u001b[0mapplied\u001b[0m \u001b[0;34m=\u001b[0m \u001b[0mb\u001b[0m\u001b[0;34m.\u001b[0m\u001b[0mapply\u001b[0m\u001b[0;34m(\u001b[0m\u001b[0mf\u001b[0m\u001b[0;34m,\u001b[0m \u001b[0;34m**\u001b[0m\u001b[0mkwargs\u001b[0m\u001b[0;34m)\u001b[0m\u001b[0;34m\u001b[0m\u001b[0;34m\u001b[0m\u001b[0m\n\u001b[1;32m    326\u001b[0m                 \u001b[0;32melse\u001b[0m\u001b[0;34m:\u001b[0m\u001b[0;34m\u001b[0m\u001b[0;34m\u001b[0m\u001b[0m\n\u001b[0;32m--> 327\u001b[0;31m                     \u001b[0mapplied\u001b[0m \u001b[0;34m=\u001b[0m \u001b[0mgetattr\u001b[0m\u001b[0;34m(\u001b[0m\u001b[0mb\u001b[0m\u001b[0;34m,\u001b[0m \u001b[0mf\u001b[0m\u001b[0;34m)\u001b[0m\u001b[0;34m(\u001b[0m\u001b[0;34m**\u001b[0m\u001b[0mkwargs\u001b[0m\u001b[0;34m)\u001b[0m\u001b[0;34m\u001b[0m\u001b[0;34m\u001b[0m\u001b[0m\n\u001b[0m\u001b[1;32m    328\u001b[0m             \u001b[0;32mexcept\u001b[0m \u001b[0;34m(\u001b[0m\u001b[0mTypeError\u001b[0m\u001b[0;34m,\u001b[0m \u001b[0mNotImplementedError\u001b[0m\u001b[0;34m)\u001b[0m\u001b[0;34m:\u001b[0m\u001b[0;34m\u001b[0m\u001b[0;34m\u001b[0m\u001b[0m\n\u001b[1;32m    329\u001b[0m                 \u001b[0;32mif\u001b[0m \u001b[0;32mnot\u001b[0m \u001b[0mignore_failures\u001b[0m\u001b[0;34m:\u001b[0m\u001b[0;34m\u001b[0m\u001b[0;34m\u001b[0m\u001b[0m\n",
            "\u001b[0;32m/usr/local/lib/python3.8/dist-packages/pandas/core/internals/blocks.py\u001b[0m in \u001b[0;36mastype\u001b[0;34m(self, dtype, copy, errors)\u001b[0m\n\u001b[1;32m    589\u001b[0m         \u001b[0mvalues\u001b[0m \u001b[0;34m=\u001b[0m \u001b[0mself\u001b[0m\u001b[0;34m.\u001b[0m\u001b[0mvalues\u001b[0m\u001b[0;34m\u001b[0m\u001b[0;34m\u001b[0m\u001b[0m\n\u001b[1;32m    590\u001b[0m \u001b[0;34m\u001b[0m\u001b[0m\n\u001b[0;32m--> 591\u001b[0;31m         \u001b[0mnew_values\u001b[0m \u001b[0;34m=\u001b[0m \u001b[0mastype_array_safe\u001b[0m\u001b[0;34m(\u001b[0m\u001b[0mvalues\u001b[0m\u001b[0;34m,\u001b[0m \u001b[0mdtype\u001b[0m\u001b[0;34m,\u001b[0m \u001b[0mcopy\u001b[0m\u001b[0;34m=\u001b[0m\u001b[0mcopy\u001b[0m\u001b[0;34m,\u001b[0m \u001b[0merrors\u001b[0m\u001b[0;34m=\u001b[0m\u001b[0merrors\u001b[0m\u001b[0;34m)\u001b[0m\u001b[0;34m\u001b[0m\u001b[0;34m\u001b[0m\u001b[0m\n\u001b[0m\u001b[1;32m    592\u001b[0m \u001b[0;34m\u001b[0m\u001b[0m\n\u001b[1;32m    593\u001b[0m         \u001b[0mnew_values\u001b[0m \u001b[0;34m=\u001b[0m \u001b[0mmaybe_coerce_values\u001b[0m\u001b[0;34m(\u001b[0m\u001b[0mnew_values\u001b[0m\u001b[0;34m)\u001b[0m\u001b[0;34m\u001b[0m\u001b[0;34m\u001b[0m\u001b[0m\n",
            "\u001b[0;32m/usr/local/lib/python3.8/dist-packages/pandas/core/dtypes/cast.py\u001b[0m in \u001b[0;36mastype_array_safe\u001b[0;34m(values, dtype, copy, errors)\u001b[0m\n\u001b[1;32m   1307\u001b[0m \u001b[0;34m\u001b[0m\u001b[0m\n\u001b[1;32m   1308\u001b[0m     \u001b[0;32mtry\u001b[0m\u001b[0;34m:\u001b[0m\u001b[0;34m\u001b[0m\u001b[0;34m\u001b[0m\u001b[0m\n\u001b[0;32m-> 1309\u001b[0;31m         \u001b[0mnew_values\u001b[0m \u001b[0;34m=\u001b[0m \u001b[0mastype_array\u001b[0m\u001b[0;34m(\u001b[0m\u001b[0mvalues\u001b[0m\u001b[0;34m,\u001b[0m \u001b[0mdtype\u001b[0m\u001b[0;34m,\u001b[0m \u001b[0mcopy\u001b[0m\u001b[0;34m=\u001b[0m\u001b[0mcopy\u001b[0m\u001b[0;34m)\u001b[0m\u001b[0;34m\u001b[0m\u001b[0;34m\u001b[0m\u001b[0m\n\u001b[0m\u001b[1;32m   1310\u001b[0m     \u001b[0;32mexcept\u001b[0m \u001b[0;34m(\u001b[0m\u001b[0mValueError\u001b[0m\u001b[0;34m,\u001b[0m \u001b[0mTypeError\u001b[0m\u001b[0;34m)\u001b[0m\u001b[0;34m:\u001b[0m\u001b[0;34m\u001b[0m\u001b[0;34m\u001b[0m\u001b[0m\n\u001b[1;32m   1311\u001b[0m         \u001b[0;31m# e.g. astype_nansafe can fail on object-dtype of strings\u001b[0m\u001b[0;34m\u001b[0m\u001b[0;34m\u001b[0m\u001b[0;34m\u001b[0m\u001b[0m\n",
            "\u001b[0;32m/usr/local/lib/python3.8/dist-packages/pandas/core/dtypes/cast.py\u001b[0m in \u001b[0;36mastype_array\u001b[0;34m(values, dtype, copy)\u001b[0m\n\u001b[1;32m   1255\u001b[0m \u001b[0;34m\u001b[0m\u001b[0m\n\u001b[1;32m   1256\u001b[0m     \u001b[0;32melse\u001b[0m\u001b[0;34m:\u001b[0m\u001b[0;34m\u001b[0m\u001b[0;34m\u001b[0m\u001b[0m\n\u001b[0;32m-> 1257\u001b[0;31m         \u001b[0mvalues\u001b[0m \u001b[0;34m=\u001b[0m \u001b[0mastype_nansafe\u001b[0m\u001b[0;34m(\u001b[0m\u001b[0mvalues\u001b[0m\u001b[0;34m,\u001b[0m \u001b[0mdtype\u001b[0m\u001b[0;34m,\u001b[0m \u001b[0mcopy\u001b[0m\u001b[0;34m=\u001b[0m\u001b[0mcopy\u001b[0m\u001b[0;34m)\u001b[0m\u001b[0;34m\u001b[0m\u001b[0;34m\u001b[0m\u001b[0m\n\u001b[0m\u001b[1;32m   1258\u001b[0m \u001b[0;34m\u001b[0m\u001b[0m\n\u001b[1;32m   1259\u001b[0m     \u001b[0;31m# in pandas we don't store numpy str dtypes, so convert to object\u001b[0m\u001b[0;34m\u001b[0m\u001b[0;34m\u001b[0m\u001b[0;34m\u001b[0m\u001b[0m\n",
            "\u001b[0;32m/usr/local/lib/python3.8/dist-packages/pandas/core/dtypes/cast.py\u001b[0m in \u001b[0;36mastype_nansafe\u001b[0;34m(arr, dtype, copy, skipna)\u001b[0m\n\u001b[1;32m   1181\u001b[0m \u001b[0;34m\u001b[0m\u001b[0m\n\u001b[1;32m   1182\u001b[0m             return astype_nansafe(\n\u001b[0;32m-> 1183\u001b[0;31m                 \u001b[0mto_datetime\u001b[0m\u001b[0;34m(\u001b[0m\u001b[0marr\u001b[0m\u001b[0;34m)\u001b[0m\u001b[0;34m.\u001b[0m\u001b[0mvalues\u001b[0m\u001b[0;34m,\u001b[0m\u001b[0;34m\u001b[0m\u001b[0;34m\u001b[0m\u001b[0m\n\u001b[0m\u001b[1;32m   1184\u001b[0m                 \u001b[0mdtype\u001b[0m\u001b[0;34m,\u001b[0m\u001b[0;34m\u001b[0m\u001b[0;34m\u001b[0m\u001b[0m\n\u001b[1;32m   1185\u001b[0m                 \u001b[0mcopy\u001b[0m\u001b[0;34m=\u001b[0m\u001b[0mcopy\u001b[0m\u001b[0;34m,\u001b[0m\u001b[0;34m\u001b[0m\u001b[0;34m\u001b[0m\u001b[0m\n",
            "\u001b[0;32m/usr/local/lib/python3.8/dist-packages/pandas/core/tools/datetimes.py\u001b[0m in \u001b[0;36mto_datetime\u001b[0;34m(arg, errors, dayfirst, yearfirst, utc, format, exact, unit, infer_datetime_format, origin, cache)\u001b[0m\n\u001b[1;32m    910\u001b[0m             \u001b[0mresult\u001b[0m \u001b[0;34m=\u001b[0m \u001b[0m_convert_and_box_cache\u001b[0m\u001b[0;34m(\u001b[0m\u001b[0marg\u001b[0m\u001b[0;34m,\u001b[0m \u001b[0mcache_array\u001b[0m\u001b[0;34m)\u001b[0m\u001b[0;34m\u001b[0m\u001b[0;34m\u001b[0m\u001b[0m\n\u001b[1;32m    911\u001b[0m         \u001b[0;32melse\u001b[0m\u001b[0;34m:\u001b[0m\u001b[0;34m\u001b[0m\u001b[0;34m\u001b[0m\u001b[0m\n\u001b[0;32m--> 912\u001b[0;31m             \u001b[0mresult\u001b[0m \u001b[0;34m=\u001b[0m \u001b[0mconvert_listlike\u001b[0m\u001b[0;34m(\u001b[0m\u001b[0marg\u001b[0m\u001b[0;34m,\u001b[0m \u001b[0mformat\u001b[0m\u001b[0;34m)\u001b[0m\u001b[0;34m\u001b[0m\u001b[0;34m\u001b[0m\u001b[0m\n\u001b[0m\u001b[1;32m    913\u001b[0m     \u001b[0;32melse\u001b[0m\u001b[0;34m:\u001b[0m\u001b[0;34m\u001b[0m\u001b[0;34m\u001b[0m\u001b[0m\n\u001b[1;32m    914\u001b[0m         \u001b[0mresult\u001b[0m \u001b[0;34m=\u001b[0m \u001b[0mconvert_listlike\u001b[0m\u001b[0;34m(\u001b[0m\u001b[0mnp\u001b[0m\u001b[0;34m.\u001b[0m\u001b[0marray\u001b[0m\u001b[0;34m(\u001b[0m\u001b[0;34m[\u001b[0m\u001b[0marg\u001b[0m\u001b[0;34m]\u001b[0m\u001b[0;34m)\u001b[0m\u001b[0;34m,\u001b[0m \u001b[0mformat\u001b[0m\u001b[0;34m)\u001b[0m\u001b[0;34m[\u001b[0m\u001b[0;36m0\u001b[0m\u001b[0;34m]\u001b[0m\u001b[0;34m\u001b[0m\u001b[0;34m\u001b[0m\u001b[0m\n",
            "\u001b[0;32m/usr/local/lib/python3.8/dist-packages/pandas/core/tools/datetimes.py\u001b[0m in \u001b[0;36m_convert_listlike_datetimes\u001b[0;34m(arg, format, name, tz, unit, errors, infer_datetime_format, dayfirst, yearfirst, exact)\u001b[0m\n\u001b[1;32m    399\u001b[0m     \u001b[0;32massert\u001b[0m \u001b[0mformat\u001b[0m \u001b[0;32mis\u001b[0m \u001b[0;32mNone\u001b[0m \u001b[0;32mor\u001b[0m \u001b[0minfer_datetime_format\u001b[0m\u001b[0;34m\u001b[0m\u001b[0;34m\u001b[0m\u001b[0m\n\u001b[1;32m    400\u001b[0m     \u001b[0mutc\u001b[0m \u001b[0;34m=\u001b[0m \u001b[0mtz\u001b[0m \u001b[0;34m==\u001b[0m \u001b[0;34m\"utc\"\u001b[0m\u001b[0;34m\u001b[0m\u001b[0;34m\u001b[0m\u001b[0m\n\u001b[0;32m--> 401\u001b[0;31m     result, tz_parsed = objects_to_datetime64ns(\n\u001b[0m\u001b[1;32m    402\u001b[0m         \u001b[0marg\u001b[0m\u001b[0;34m,\u001b[0m\u001b[0;34m\u001b[0m\u001b[0;34m\u001b[0m\u001b[0m\n\u001b[1;32m    403\u001b[0m         \u001b[0mdayfirst\u001b[0m\u001b[0;34m=\u001b[0m\u001b[0mdayfirst\u001b[0m\u001b[0;34m,\u001b[0m\u001b[0;34m\u001b[0m\u001b[0;34m\u001b[0m\u001b[0m\n",
            "\u001b[0;32m/usr/local/lib/python3.8/dist-packages/pandas/core/arrays/datetimes.py\u001b[0m in \u001b[0;36mobjects_to_datetime64ns\u001b[0;34m(data, dayfirst, yearfirst, utc, errors, require_iso8601, allow_object, allow_mixed)\u001b[0m\n\u001b[1;32m   2196\u001b[0m             \u001b[0;32mreturn\u001b[0m \u001b[0mvalues\u001b[0m\u001b[0;34m.\u001b[0m\u001b[0mview\u001b[0m\u001b[0;34m(\u001b[0m\u001b[0;34m\"i8\"\u001b[0m\u001b[0;34m)\u001b[0m\u001b[0;34m,\u001b[0m \u001b[0mtz_parsed\u001b[0m\u001b[0;34m\u001b[0m\u001b[0;34m\u001b[0m\u001b[0m\n\u001b[1;32m   2197\u001b[0m         \u001b[0;32mexcept\u001b[0m \u001b[0;34m(\u001b[0m\u001b[0mValueError\u001b[0m\u001b[0;34m,\u001b[0m \u001b[0mTypeError\u001b[0m\u001b[0;34m)\u001b[0m\u001b[0;34m:\u001b[0m\u001b[0;34m\u001b[0m\u001b[0;34m\u001b[0m\u001b[0m\n\u001b[0;32m-> 2198\u001b[0;31m             \u001b[0;32mraise\u001b[0m \u001b[0merr\u001b[0m\u001b[0;34m\u001b[0m\u001b[0;34m\u001b[0m\u001b[0m\n\u001b[0m\u001b[1;32m   2199\u001b[0m \u001b[0;34m\u001b[0m\u001b[0m\n\u001b[1;32m   2200\u001b[0m     \u001b[0;32mif\u001b[0m \u001b[0mtz_parsed\u001b[0m \u001b[0;32mis\u001b[0m \u001b[0;32mnot\u001b[0m \u001b[0;32mNone\u001b[0m\u001b[0;34m:\u001b[0m\u001b[0;34m\u001b[0m\u001b[0;34m\u001b[0m\u001b[0m\n",
            "\u001b[0;32m/usr/local/lib/python3.8/dist-packages/pandas/core/arrays/datetimes.py\u001b[0m in \u001b[0;36mobjects_to_datetime64ns\u001b[0;34m(data, dayfirst, yearfirst, utc, errors, require_iso8601, allow_object, allow_mixed)\u001b[0m\n\u001b[1;32m   2178\u001b[0m     \u001b[0morder\u001b[0m\u001b[0;34m:\u001b[0m \u001b[0mLiteral\u001b[0m\u001b[0;34m[\u001b[0m\u001b[0;34m\"F\"\u001b[0m\u001b[0;34m,\u001b[0m \u001b[0;34m\"C\"\u001b[0m\u001b[0;34m]\u001b[0m \u001b[0;34m=\u001b[0m \u001b[0;34m\"F\"\u001b[0m \u001b[0;32mif\u001b[0m \u001b[0mflags\u001b[0m\u001b[0;34m.\u001b[0m\u001b[0mf_contiguous\u001b[0m \u001b[0;32melse\u001b[0m \u001b[0;34m\"C\"\u001b[0m\u001b[0;34m\u001b[0m\u001b[0;34m\u001b[0m\u001b[0m\n\u001b[1;32m   2179\u001b[0m     \u001b[0;32mtry\u001b[0m\u001b[0;34m:\u001b[0m\u001b[0;34m\u001b[0m\u001b[0;34m\u001b[0m\u001b[0m\n\u001b[0;32m-> 2180\u001b[0;31m         result, tz_parsed = tslib.array_to_datetime(\n\u001b[0m\u001b[1;32m   2181\u001b[0m             \u001b[0mdata\u001b[0m\u001b[0;34m.\u001b[0m\u001b[0mravel\u001b[0m\u001b[0;34m(\u001b[0m\u001b[0;34m\"K\"\u001b[0m\u001b[0;34m)\u001b[0m\u001b[0;34m,\u001b[0m\u001b[0;34m\u001b[0m\u001b[0;34m\u001b[0m\u001b[0m\n\u001b[1;32m   2182\u001b[0m             \u001b[0merrors\u001b[0m\u001b[0;34m=\u001b[0m\u001b[0merrors\u001b[0m\u001b[0;34m,\u001b[0m\u001b[0;34m\u001b[0m\u001b[0;34m\u001b[0m\u001b[0m\n",
            "\u001b[0;32m/usr/local/lib/python3.8/dist-packages/pandas/_libs/tslib.pyx\u001b[0m in \u001b[0;36mpandas._libs.tslib.array_to_datetime\u001b[0;34m()\u001b[0m\n",
            "\u001b[0;32m/usr/local/lib/python3.8/dist-packages/pandas/_libs/tslib.pyx\u001b[0m in \u001b[0;36mpandas._libs.tslib.array_to_datetime\u001b[0;34m()\u001b[0m\n",
            "\u001b[0;32m/usr/local/lib/python3.8/dist-packages/pandas/_libs/tslib.pyx\u001b[0m in \u001b[0;36mpandas._libs.tslib._array_to_datetime_object\u001b[0;34m()\u001b[0m\n",
            "\u001b[0;32m/usr/local/lib/python3.8/dist-packages/pandas/_libs/tslib.pyx\u001b[0m in \u001b[0;36mpandas._libs.tslib._array_to_datetime_object\u001b[0;34m()\u001b[0m\n",
            "\u001b[0;32m/usr/local/lib/python3.8/dist-packages/pandas/_libs/tslibs/parsing.pyx\u001b[0m in \u001b[0;36mpandas._libs.tslibs.parsing.parse_datetime_string\u001b[0;34m()\u001b[0m\n",
            "\u001b[0;32m/usr/local/lib/python3.8/dist-packages/dateutil/parser/_parser.py\u001b[0m in \u001b[0;36mparse\u001b[0;34m(timestr, parserinfo, **kwargs)\u001b[0m\n\u001b[1;32m   1366\u001b[0m         \u001b[0;32mreturn\u001b[0m \u001b[0mparser\u001b[0m\u001b[0;34m(\u001b[0m\u001b[0mparserinfo\u001b[0m\u001b[0;34m)\u001b[0m\u001b[0;34m.\u001b[0m\u001b[0mparse\u001b[0m\u001b[0;34m(\u001b[0m\u001b[0mtimestr\u001b[0m\u001b[0;34m,\u001b[0m \u001b[0;34m**\u001b[0m\u001b[0mkwargs\u001b[0m\u001b[0;34m)\u001b[0m\u001b[0;34m\u001b[0m\u001b[0;34m\u001b[0m\u001b[0m\n\u001b[1;32m   1367\u001b[0m     \u001b[0;32melse\u001b[0m\u001b[0;34m:\u001b[0m\u001b[0;34m\u001b[0m\u001b[0;34m\u001b[0m\u001b[0m\n\u001b[0;32m-> 1368\u001b[0;31m         \u001b[0;32mreturn\u001b[0m \u001b[0mDEFAULTPARSER\u001b[0m\u001b[0;34m.\u001b[0m\u001b[0mparse\u001b[0m\u001b[0;34m(\u001b[0m\u001b[0mtimestr\u001b[0m\u001b[0;34m,\u001b[0m \u001b[0;34m**\u001b[0m\u001b[0mkwargs\u001b[0m\u001b[0;34m)\u001b[0m\u001b[0;34m\u001b[0m\u001b[0;34m\u001b[0m\u001b[0m\n\u001b[0m\u001b[1;32m   1369\u001b[0m \u001b[0;34m\u001b[0m\u001b[0m\n\u001b[1;32m   1370\u001b[0m \u001b[0;34m\u001b[0m\u001b[0m\n",
            "\u001b[0;32m/usr/local/lib/python3.8/dist-packages/dateutil/parser/_parser.py\u001b[0m in \u001b[0;36mparse\u001b[0;34m(self, timestr, default, ignoretz, tzinfos, **kwargs)\u001b[0m\n\u001b[1;32m    641\u001b[0m \u001b[0;34m\u001b[0m\u001b[0m\n\u001b[1;32m    642\u001b[0m         \u001b[0;32mif\u001b[0m \u001b[0mres\u001b[0m \u001b[0;32mis\u001b[0m \u001b[0;32mNone\u001b[0m\u001b[0;34m:\u001b[0m\u001b[0;34m\u001b[0m\u001b[0;34m\u001b[0m\u001b[0m\n\u001b[0;32m--> 643\u001b[0;31m             \u001b[0;32mraise\u001b[0m \u001b[0mParserError\u001b[0m\u001b[0;34m(\u001b[0m\u001b[0;34m\"Unknown string format: %s\"\u001b[0m\u001b[0;34m,\u001b[0m \u001b[0mtimestr\u001b[0m\u001b[0;34m)\u001b[0m\u001b[0;34m\u001b[0m\u001b[0;34m\u001b[0m\u001b[0m\n\u001b[0m\u001b[1;32m    644\u001b[0m \u001b[0;34m\u001b[0m\u001b[0m\n\u001b[1;32m    645\u001b[0m         \u001b[0;32mif\u001b[0m \u001b[0mlen\u001b[0m\u001b[0;34m(\u001b[0m\u001b[0mres\u001b[0m\u001b[0;34m)\u001b[0m \u001b[0;34m==\u001b[0m \u001b[0;36m0\u001b[0m\u001b[0;34m:\u001b[0m\u001b[0;34m\u001b[0m\u001b[0;34m\u001b[0m\u001b[0m\n",
            "\u001b[0;31mParserError\u001b[0m: Unknown string format: \\N"
          ]
        }
      ]
    },
    {
      "cell_type": "markdown",
      "source": [
        "\n",
        "#Reemplaando los valores \"\\n\" en la columna de tiempo con NaN porque el valor en la columna de tiempo no se registró cuando el piloto no terminó la carrera"
      ],
      "metadata": {
        "id": "UgzfiDCAtqLn"
      }
    },
    {
      "cell_type": "code",
      "source": [
        "df.time.replace('\\\\N',np.nan,inplace = True)\n",
        "df.milliseconds.replace('\\\\N',np.nan,inplace = True)\n",
        "df.fastest_lap_rank.replace('\\\\N',np.nan,inplace = True)\n",
        "df.fastestLapTime.replace('\\\\N',np.nan,inplace = True)\n",
        "df.fastestLapSpeed.replace('\\\\N',np.nan,inplace = True)"
      ],
      "metadata": {
        "execution": {
          "iopub.status.busy": "2023-02-24T07:41:30.010919Z",
          "iopub.execute_input": "2023-02-24T07:41:30.011357Z",
          "iopub.status.idle": "2023-02-24T07:41:30.027612Z",
          "shell.execute_reply.started": "2023-02-24T07:41:30.01132Z",
          "shell.execute_reply": "2023-02-24T07:41:30.026309Z"
        },
        "trusted": true,
        "id": "VIamtRdMtqLn"
      },
      "execution_count": null,
      "outputs": []
    },
    {
      "cell_type": "markdown",
      "source": [
        "# Cambiando tipo de datos en ciertas columnas"
      ],
      "metadata": {
        "id": "uWSLb_m8tqLn"
      }
    },
    {
      "cell_type": "code",
      "source": [
        "df.fastestLapSpeed = df.fastestLapSpeed.astype(float)\n",
        "df.fastest_lap_rank = df.fastest_lap_rank.astype(float)\n",
        "df.milliseconds = df.milliseconds.astype(float)\n"
      ],
      "metadata": {
        "execution": {
          "iopub.status.busy": "2023-02-24T07:41:30.028899Z",
          "iopub.execute_input": "2023-02-24T07:41:30.02925Z",
          "iopub.status.idle": "2023-02-24T07:41:30.052746Z",
          "shell.execute_reply.started": "2023-02-24T07:41:30.02922Z",
          "shell.execute_reply": "2023-02-24T07:41:30.051421Z"
        },
        "trusted": true,
        "id": "L1m4B6CZtqLn"
      },
      "execution_count": null,
      "outputs": []
    },
    {
      "cell_type": "markdown",
      "source": [
        "# Reiniciando el índice"
      ],
      "metadata": {
        "id": "LxKiuyg2tqLn"
      }
    },
    {
      "cell_type": "code",
      "source": [
        "df.reset_index(drop=True, inplace = True)\n",
        "# df.head()"
      ],
      "metadata": {
        "execution": {
          "iopub.status.busy": "2023-02-24T07:41:30.055419Z",
          "iopub.execute_input": "2023-02-24T07:41:30.055804Z",
          "iopub.status.idle": "2023-02-24T07:41:30.061872Z",
          "shell.execute_reply.started": "2023-02-24T07:41:30.055769Z",
          "shell.execute_reply": "2023-02-24T07:41:30.060391Z"
        },
        "trusted": true,
        "id": "QMrUkb32tqLn"
      },
      "execution_count": null,
      "outputs": []
    },
    {
      "cell_type": "markdown",
      "source": [
        "#Exportando el DataFrame a un CSV que es el que se cargará en nuestra app en DASH"
      ],
      "metadata": {
        "id": "0bO8sufugPux"
      }
    },
    {
      "cell_type": "code",
      "source": [
        "from google.colab import files\n",
        "df.to_csv('f1_df.csv', encoding = 'utf-8-sig') \n",
        "files.download('f1_df.csv')"
      ],
      "metadata": {
        "id": "X7CHEG0ONhqf",
        "colab": {
          "base_uri": "https://localhost:8080/",
          "height": 17
        },
        "outputId": "136a8bb5-34f8-4e2c-f3fd-f5d1f4ad9fc3"
      },
      "execution_count": null,
      "outputs": [
        {
          "output_type": "display_data",
          "data": {
            "text/plain": [
              "<IPython.core.display.Javascript object>"
            ],
            "application/javascript": [
              "\n",
              "    async function download(id, filename, size) {\n",
              "      if (!google.colab.kernel.accessAllowed) {\n",
              "        return;\n",
              "      }\n",
              "      const div = document.createElement('div');\n",
              "      const label = document.createElement('label');\n",
              "      label.textContent = `Downloading \"${filename}\": `;\n",
              "      div.appendChild(label);\n",
              "      const progress = document.createElement('progress');\n",
              "      progress.max = size;\n",
              "      div.appendChild(progress);\n",
              "      document.body.appendChild(div);\n",
              "\n",
              "      const buffers = [];\n",
              "      let downloaded = 0;\n",
              "\n",
              "      const channel = await google.colab.kernel.comms.open(id);\n",
              "      // Send a message to notify the kernel that we're ready.\n",
              "      channel.send({})\n",
              "\n",
              "      for await (const message of channel.messages) {\n",
              "        // Send a message to notify the kernel that we're ready.\n",
              "        channel.send({})\n",
              "        if (message.buffers) {\n",
              "          for (const buffer of message.buffers) {\n",
              "            buffers.push(buffer);\n",
              "            downloaded += buffer.byteLength;\n",
              "            progress.value = downloaded;\n",
              "          }\n",
              "        }\n",
              "      }\n",
              "      const blob = new Blob(buffers, {type: 'application/binary'});\n",
              "      const a = document.createElement('a');\n",
              "      a.href = window.URL.createObjectURL(blob);\n",
              "      a.download = filename;\n",
              "      div.appendChild(a);\n",
              "      a.click();\n",
              "      div.remove();\n",
              "    }\n",
              "  "
            ]
          },
          "metadata": {}
        },
        {
          "output_type": "display_data",
          "data": {
            "text/plain": [
              "<IPython.core.display.Javascript object>"
            ],
            "application/javascript": [
              "download(\"download_a3ce6388-537b-4023-9438-dfb52f1875f8\", \"f1_df.csv\", 976582)"
            ]
          },
          "metadata": {}
        }
      ]
    },
    {
      "cell_type": "code",
      "source": [
        "# url='https://drive.google.com/file/d/1gUjVcZt9_K7Zs-YHs2qza0Uq8oP7K_Ob/view?usp=share_link'\n",
        "# url='https://drive.google.com/uc?id=' + url.split('/')[-2]\n",
        "# df = pd.read_csv(url)"
      ],
      "metadata": {
        "id": "RTloXduIW0uV"
      },
      "execution_count": null,
      "outputs": []
    },
    {
      "cell_type": "code",
      "source": [
        "# v1 dataframe\n",
        "# url='https://drive.google.com/file/d/1vT7afjga86IH3JwdINE2PUwtXI7GoREU/view?usp=share_link'\n",
        "# url='https://drive.google.com/uc?id=' + url.split('/')[-2]\n",
        "# df = pd.read_csv(url)"
      ],
      "metadata": {
        "id": "NqzKpH1p-l6i"
      },
      "execution_count": null,
      "outputs": []
    },
    {
      "cell_type": "markdown",
      "source": [
        "#Identificando los diferentes constructores para depsués asignarle un color en específico a los 10 equipos que compíten en la actualidad (se usará más adelante)"
      ],
      "metadata": {
        "id": "M7IGBKYggfQr"
      }
    },
    {
      "cell_type": "code",
      "source": [
        "cNames=df['constructor_name'].unique()"
      ],
      "metadata": {
        "id": "888rnpmgJ_bK"
      },
      "execution_count": null,
      "outputs": []
    },
    {
      "cell_type": "code",
      "source": [
        "# cNames"
      ],
      "metadata": {
        "id": "RMM3HY4PKRFw"
      },
      "execution_count": null,
      "outputs": []
    },
    {
      "cell_type": "code",
      "source": [
        "cColors= {'Mercedes':'aqua','Alfa Romeo':'darkred', \n",
        "          'Ferrari':'red', 'AlphaTauri':'midnightblue', \n",
        "          'Red Bull':'mediumblue', 'McLaren':'darkorange', \n",
        "          'Williams':'darkblue', 'Haas F1 Team':'dimgray',\n",
        "          'Alpine F1 Team':'deeppink', 'Aston Martin':'mediumseagreen'}"
      ],
      "metadata": {
        "id": "3yuSwhPLLwgE"
      },
      "execution_count": null,
      "outputs": []
    },
    {
      "cell_type": "markdown",
      "source": [
        "#Creando una lísta ordenada de los años disponibles"
      ],
      "metadata": {
        "id": "U8knzDskg3cH"
      }
    },
    {
      "cell_type": "code",
      "source": [
        "years= df['year'].unique()\n",
        "years[::-1].sort()\n",
        "years"
      ],
      "metadata": {
        "colab": {
          "base_uri": "https://localhost:8080/"
        },
        "id": "Y0Y_EtOhTg-0",
        "outputId": "ae2b4210-565c-4ac8-a1ee-89addeeee64d"
      },
      "execution_count": null,
      "outputs": [
        {
          "output_type": "execute_result",
          "data": {
            "text/plain": [
              "array([2022, 2021, 2020, 2018, 2017, 2016, 2015, 2014, 2013, 2012, 2011,\n",
              "       2010, 2009, 2008, 2007, 2006, 2005, 2004, 2003, 2002, 2001, 2000,\n",
              "       1999, 1998, 1997, 1996, 1995, 1994, 1993, 1992, 1991, 1990, 1989,\n",
              "       1988, 1987, 1986, 1985, 1984, 1983, 1982, 1981, 1980, 1979, 1978,\n",
              "       1977, 1976, 1975, 1974, 1973, 1972, 1971, 1970, 1969, 1968, 1967,\n",
              "       1966, 1965, 1964, 1963, 1962, 1961, 1960, 1959, 1958, 1957, 1956,\n",
              "       1955, 1954, 1953, 1952, 1951, 1950])"
            ]
          },
          "metadata": {},
          "execution_count": 81
        }
      ]
    },
    {
      "cell_type": "markdown",
      "source": [
        "#**Gráfico en Dash con PX**\n",
        "#Instalando librerías e importando dependencias"
      ],
      "metadata": {
        "id": "Ix6jejAobipF"
      }
    },
    {
      "cell_type": "code",
      "source": [
        "!pip install jupyter-dash --quiet\n",
        "!pip install dash_bootstrap_components --quiet\n",
        "#from flask import Flask\n",
        "import pandas as pd\n",
        "import plotly.express as px\n",
        "# from dash import Dash\n",
        "from jupyter_dash import JupyterDash # Versión de dash para notebooks\n",
        "from dash import dcc\n",
        "import dash_bootstrap_components as dbc\n",
        "from dash import html\n",
        "from dash.dependencies import Input, Output"
      ],
      "metadata": {
        "colab": {
          "base_uri": "https://localhost:8080/",
          "height": 72
        },
        "id": "4x9P4ZDHDe9M",
        "outputId": "c52a7d06-72ea-4fba-bab1-ff3fe35eae42"
      },
      "execution_count": 1,
      "outputs": [
        {
          "output_type": "stream",
          "name": "stdout",
          "text": [
            "\u001b[2K     \u001b[90m━━━━━━━━━━━━━━━━━━━━━━━━━━━━━━━━━━━━━━━━\u001b[0m \u001b[32m9.9/9.9 MB\u001b[0m \u001b[31m17.7 MB/s\u001b[0m eta \u001b[36m0:00:00\u001b[0m\n",
            "\u001b[2K     \u001b[90m━━━━━━━━━━━━━━━━━━━━━━━━━━━━━━━━━━━━━━━━\u001b[0m \u001b[32m1.6/1.6 MB\u001b[0m \u001b[31m19.8 MB/s\u001b[0m eta \u001b[36m0:00:00\u001b[0m\n",
            "\u001b[2K     \u001b[90m━━━━━━━━━━━━━━━━━━━━━━━━━━━━━━━━━━━━━━━\u001b[0m \u001b[32m219.9/219.9 KB\u001b[0m \u001b[31m1.2 MB/s\u001b[0m eta \u001b[36m0:00:00\u001b[0m\n",
            "\u001b[?25h"
          ]
        }
      ]
    },
    {
      "cell_type": "markdown",
      "source": [
        "#Cargando estílos y componentes"
      ],
      "metadata": {
        "id": "HHlkjaK6hQ0T"
      }
    },
    {
      "cell_type": "code",
      "source": [
        "#external_stylesheets = ['https://codepen.io/chriddyp/pen/bWLwgP.css']\n",
        "dbc_css = \"https://cdn.jsdelivr.net/gh/AnnMarieW/dash-bootstrap-templates/dbc.min.css\"\n",
        "external_stylesheets = [dbc.themes.DARKLY, dbc_css]\n",
        "\n",
        "\n",
        "url='https://drive.google.com/file/d/1gUjVcZt9_K7Zs-YHs2qza0Uq8oP7K_Ob/view?usp=share_link'\n",
        "url='https://drive.google.com/uc?id=' + url.split('/')[-2]\n",
        "df = pd.read_csv(url)\n",
        "\n",
        "#image_path = 'https://drive.google.com/file/d/1Ksj9dUOnKnlFogqYlGLgG-bUOHe2HQpE/view?usp=share_link'\n",
        "#image_path='https://drive.google.com/uc?id=' + image_path.split('/')[-2]\n",
        "image_path='https://www.racecar-engineering.com/wp-content/uploads/2018/03/F1-LOGO.png'\n",
        "\n",
        "gp_names = df['gp_name'].unique()\n",
        "gp_names.sort()\n",
        "years= df['year'].unique()\n",
        "years[::-1].sort()\n",
        "cColors= {'Mercedes':'aqua','Alfa Romeo':'darkred',\n",
        "          'Ferrari':'red', 'AlphaTauri':'midnightblue',\n",
        "          'Red Bull':'mediumblue', 'McLaren':'darkorange',\n",
        "          'Williams':'darkblue', 'Haas F1 Team':'ghostwhite',\n",
        "          'Alpine F1 Team':'deeppink', 'Aston Martin':'mediumseagreen', \n",
        "          'Racing Point':'hotpink', 'Renault': 'gold',\n",
        "          'Toro Rosso':'firebrick', 'Sauber':'lightslategray',\n",
        "          'Jordan':'yellow', 'BMW Sauber': 'royalblue'}\n",
        "\n",
        "# app = Dash(external_stylesheets=external_stylesheets)         \n",
        "app = JupyterDash(external_stylesheets=external_stylesheets)       "
      ],
      "metadata": {
        "id": "HNcMQcBzDheK"
      },
      "execution_count": 2,
      "outputs": []
    },
    {
      "cell_type": "markdown",
      "source": [
        "#Graficando con Plotly Express y mostrado en tablero de DASH"
      ],
      "metadata": {
        "id": "UTc7hHn0hcfh"
      }
    },
    {
      "cell_type": "code",
      "source": [
        "app.layout = html.Div([\n",
        "    #html.H1('F1', style={'textAlign': 'center'}),\n",
        "    html.Img(src=image_path, style={'height':'15%', 'width':'15%', \"margin-top\": \"30px\", 'margin-bottom': \"30px\"}),\n",
        "    html.H2('Visualización de resultados y tiempos de vuelta rápida', style={'textAlign': 'center'}),\n",
        "    html.Div([\n",
        "        dcc.Dropdown(\n",
        "            id='gp-select',\n",
        "            #options=[{'label': i, 'value': i} for i in gp_names],\n",
        "            value='Bahrain Grand Prix', className=\"dbc\"\n",
        "        )\n",
        "    ], style={'width': '48%', 'display': 'inline-block', \"margin-top\": \"10px\", 'margin-bottom': \"5px\"}),\n",
        "    html.Div([dcc.Dropdown(\n",
        "        id='year-dropdown',\n",
        "        #options=[{'label': i, 'value': i} for i in years],\n",
        "        className=\"dbc\",\n",
        "        value=df['year'].max(),\n",
        "    )], style={'width': '49%', 'display': 'inline-block', 'float': 'right', \"margin-top\": \"10px\", 'margin-bottom': \"5px\"}),\n",
        "\n",
        "    html.Div([\n",
        "    dcc.Graph(id='indicator-graphic')]),\n",
        "\n",
        "], style={'background-color': ' #ff1e00', 'textAlign': 'center'})\n",
        "\n",
        "@app.callback(\n",
        "    [Output('gp-select', 'options'),\n",
        "     Output('year-dropdown', 'options')],\n",
        "    [Input('year-dropdown', 'value')])\n",
        "\n",
        "def update_dropdown_options(value):\n",
        "\n",
        "        options1 = [{'label': i, 'value': i} for i in sorted(df[df['year'] == value]['gp_name'].unique())]\n",
        "        options2 = [{'label': i, 'value': i} for i in years]\n",
        "\n",
        "        return options1, options2\n",
        "\n",
        "\n",
        "@app.callback(\n",
        "    Output(component_id='indicator-graphic', component_property='figure'),\n",
        "    Input(component_id='gp-select', component_property='value'),\n",
        "    Input(component_id='year-dropdown', component_property='value')\n",
        ")\n",
        "def update_figure(\n",
        "        selected_gp,\n",
        "        selected_year\n",
        "    ):\n",
        "    filtered_df = df.loc[(df['gp_name']==selected_gp) & (df['year']==selected_year)]\n",
        "\n",
        "\n",
        "    fig = px.scatter(\n",
        "        filtered_df,\n",
        "        x='fastestLapTime',\n",
        "        y='positionOrder',\n",
        "        symbol= 'Driver Name',\n",
        "        color='Constructor Name',\n",
        "        hover_name='Driver Name',\n",
        "        color_discrete_map=cColors,\n",
        "        template = 'plotly_dark'\n",
        "        )\n",
        "\n",
        "    fig.update_layout(margin={'l': 40, 'b': 40, 't': 10, 'r': 0}, hovermode='closest')\n",
        "    fig.update_xaxes(title='Tiempo de vuelta más rápida')\n",
        "    fig.update_yaxes(title='Orden de finalización', tickmode='linear', dtick=1)\n",
        "    fig.update_traces(marker={'size': 10})\n",
        "\n",
        "    return fig"
      ],
      "metadata": {
        "id": "SURjx_YpDtoz"
      },
      "execution_count": 3,
      "outputs": []
    },
    {
      "cell_type": "code",
      "source": [
        "if __name__ == '__main__':\n",
        "  app.run_server()    \n"
      ],
      "metadata": {
        "colab": {
          "base_uri": "https://localhost:8080/",
          "height": 53
        },
        "id": "yc_tfWRwDxLX",
        "outputId": "70a674d3-3841-4201-ecea-69aabc6b5d21"
      },
      "execution_count": 4,
      "outputs": [
        {
          "output_type": "stream",
          "name": "stdout",
          "text": [
            "Dash app running on:\n"
          ]
        },
        {
          "output_type": "display_data",
          "data": {
            "text/plain": [
              "<IPython.core.display.Javascript object>"
            ],
            "application/javascript": [
              "(async (port, path, text, element) => {\n",
              "    if (!google.colab.kernel.accessAllowed) {\n",
              "      return;\n",
              "    }\n",
              "    element.appendChild(document.createTextNode(''));\n",
              "    const url = await google.colab.kernel.proxyPort(port);\n",
              "    const anchor = document.createElement('a');\n",
              "    anchor.href = new URL(path, url).toString();\n",
              "    anchor.target = '_blank';\n",
              "    anchor.setAttribute('data-href', url + path);\n",
              "    anchor.textContent = text;\n",
              "    element.appendChild(anchor);\n",
              "  })(8050, \"/\", \"http://127.0.0.1:8050/\", window.element)"
            ]
          },
          "metadata": {}
        }
      ]
    },
    {
      "cell_type": "code",
      "source": [
        "# if __name__ == '__main__':\n",
        "  # app.run_server(mode='inline')    \n"
      ],
      "metadata": {
        "id": "-jwOVZd1IW4V"
      },
      "execution_count": 7,
      "outputs": []
    },
    {
      "cell_type": "markdown",
      "source": [
        "#Disponible en -> [PythonAnywhere](https://salvananez.pythonanywhere.com/) <-\n"
      ],
      "metadata": {
        "id": "1Ik2Mq6Ii6E4"
      }
    }
  ]
}