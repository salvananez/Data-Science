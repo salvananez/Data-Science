{
  "nbformat": 4,
  "nbformat_minor": 0,
  "metadata": {
    "colab": {
      "provenance": [],
      "collapsed_sections": [],
      "include_colab_link": true
    },
    "kernelspec": {
      "name": "python3",
      "display_name": "Python 3"
    },
    "language_info": {
      "name": "python"
    }
  },
  "cells": [
    {
      "cell_type": "markdown",
      "metadata": {
        "id": "view-in-github",
        "colab_type": "text"
      },
      "source": [
        "<a href=\"https://colab.research.google.com/github/salvananez/Data-Science/blob/main/Copy_of_Challenge_Numpy.ipynb\" target=\"_parent\"><img src=\"https://colab.research.google.com/assets/colab-badge.svg\" alt=\"Open In Colab\"/></a>"
      ]
    },
    {
      "cell_type": "code",
      "execution_count": 1,
      "metadata": {
        "id": "MClpPpJYoEoA"
      },
      "outputs": [],
      "source": [
        "import numpy as np"
      ]
    },
    {
      "cell_type": "markdown",
      "source": [
        "## Crea un array con numeros del 1 al 10"
      ],
      "metadata": {
        "id": "TMTQLxvMp8K1"
      }
    },
    {
      "cell_type": "code",
      "source": [
        "a = np.arange(10)"
      ],
      "metadata": {
        "id": "DA2_2Nbap7jM"
      },
      "execution_count": 2,
      "outputs": []
    },
    {
      "cell_type": "code",
      "source": [
        "a"
      ],
      "metadata": {
        "id": "llY_9t4OqAhz",
        "colab": {
          "base_uri": "https://localhost:8080/"
        },
        "outputId": "ac6a71bd-1466-44d0-a95f-ce02b1f017c3"
      },
      "execution_count": 3,
      "outputs": [
        {
          "output_type": "execute_result",
          "data": {
            "text/plain": [
              "array([0, 1, 2, 3, 4, 5, 6, 7, 8, 9])"
            ]
          },
          "metadata": {},
          "execution_count": 3
        }
      ]
    },
    {
      "cell_type": "code",
      "source": [
        "# Resultado esperado\n",
        "#> array([0, 1, 2, 3, 4, 5, 6, 7, 8, 9])"
      ],
      "metadata": {
        "id": "wAk_fsK5qAdd"
      },
      "execution_count": 4,
      "outputs": []
    },
    {
      "cell_type": "markdown",
      "source": [
        "## Crea un array de 3x3 donde todos su valores sean `True`"
      ],
      "metadata": {
        "id": "W22Msb7LoGmS"
      }
    },
    {
      "cell_type": "code",
      "source": [
        "b = np.ones((3,3))\n",
        "b "
      ],
      "metadata": {
        "id": "LyLPQ0paAnqM",
        "colab": {
          "base_uri": "https://localhost:8080/"
        },
        "outputId": "946910a9-7734-4136-9af6-8dbb87a0dce5"
      },
      "execution_count": 5,
      "outputs": [
        {
          "output_type": "execute_result",
          "data": {
            "text/plain": [
              "array([[1., 1., 1.],\n",
              "       [1., 1., 1.],\n",
              "       [1., 1., 1.]])"
            ]
          },
          "metadata": {},
          "execution_count": 5
        }
      ]
    },
    {
      "cell_type": "code",
      "source": [
        "b == True"
      ],
      "metadata": {
        "id": "tj4Joha8Anmy",
        "colab": {
          "base_uri": "https://localhost:8080/"
        },
        "outputId": "0fba0252-fa21-4937-f926-a4cf47198e0a"
      },
      "execution_count": 6,
      "outputs": [
        {
          "output_type": "execute_result",
          "data": {
            "text/plain": [
              "array([[ True,  True,  True],\n",
              "       [ True,  True,  True],\n",
              "       [ True,  True,  True]])"
            ]
          },
          "metadata": {},
          "execution_count": 6
        }
      ]
    },
    {
      "cell_type": "code",
      "source": [
        "# Reultado esperado\n",
        "#> array([[ True,  True,  True],\n",
        "#>        [ True,  True,  True],\n",
        "#>        [ True,  True,  True]])"
      ],
      "metadata": {
        "id": "tUDiEPj6ob7B"
      },
      "execution_count": 7,
      "outputs": []
    },
    {
      "cell_type": "markdown",
      "source": [
        "## Extrae todos los numeros impares del siguiente array"
      ],
      "metadata": {
        "id": "FopmvR4koGjG"
      }
    },
    {
      "cell_type": "code",
      "source": [
        "arr = np.arange(10)\n",
        "print(arr)"
      ],
      "metadata": {
        "colab": {
          "base_uri": "https://localhost:8080/"
        },
        "id": "yPA0QUqYobwt",
        "outputId": "e2a55136-4ffa-4a0d-f3e8-67292ac96f91"
      },
      "execution_count": 8,
      "outputs": [
        {
          "output_type": "stream",
          "name": "stdout",
          "text": [
            "[0 1 2 3 4 5 6 7 8 9]\n"
          ]
        }
      ]
    },
    {
      "cell_type": "code",
      "source": [
        "arr[arr%2==1]"
      ],
      "metadata": {
        "id": "ynrwmP5Jobm_",
        "colab": {
          "base_uri": "https://localhost:8080/"
        },
        "outputId": "4548a094-b9da-4803-ac61-3977fbd9c8ca"
      },
      "execution_count": 9,
      "outputs": [
        {
          "output_type": "execute_result",
          "data": {
            "text/plain": [
              "array([1, 3, 5, 7, 9])"
            ]
          },
          "metadata": {},
          "execution_count": 9
        }
      ]
    },
    {
      "cell_type": "code",
      "source": [
        "# Resultado esperado:\n",
        "#> array([1, 3, 5, 7, 9])"
      ],
      "metadata": {
        "id": "RKoxsawkobNt"
      },
      "execution_count": 10,
      "outputs": []
    },
    {
      "cell_type": "markdown",
      "source": [
        "## Remplaza todos los numeros impares por  -1"
      ],
      "metadata": {
        "id": "Nn--my5poGgL"
      }
    },
    {
      "cell_type": "code",
      "source": [
        "arr = np.arange(10)\n",
        "print(arr)"
      ],
      "metadata": {
        "colab": {
          "base_uri": "https://localhost:8080/"
        },
        "id": "iRo8RiVGoxX9",
        "outputId": "af0a2a04-4b9c-4ee8-94b7-df12711797cb"
      },
      "execution_count": 11,
      "outputs": [
        {
          "output_type": "stream",
          "name": "stdout",
          "text": [
            "[0 1 2 3 4 5 6 7 8 9]\n"
          ]
        }
      ]
    },
    {
      "cell_type": "code",
      "source": [
        "arr[arr%2==1] = -1\n",
        "print(arr)"
      ],
      "metadata": {
        "id": "rHM5WOtaoxUa",
        "colab": {
          "base_uri": "https://localhost:8080/"
        },
        "outputId": "5d0e6fca-b405-4391-8aa2-49af4fa7e149"
      },
      "execution_count": 12,
      "outputs": [
        {
          "output_type": "stream",
          "name": "stdout",
          "text": [
            "[ 0 -1  2 -1  4 -1  6 -1  8 -1]\n"
          ]
        }
      ]
    },
    {
      "cell_type": "code",
      "source": [
        "arr"
      ],
      "metadata": {
        "colab": {
          "base_uri": "https://localhost:8080/"
        },
        "id": "5W8uMYfAq3Y2",
        "outputId": "534a31e8-4e8f-490a-83e1-7b10f63a52bc"
      },
      "execution_count": 13,
      "outputs": [
        {
          "output_type": "execute_result",
          "data": {
            "text/plain": [
              "array([ 0, -1,  2, -1,  4, -1,  6, -1,  8, -1])"
            ]
          },
          "metadata": {},
          "execution_count": 13
        }
      ]
    },
    {
      "cell_type": "code",
      "source": [
        "# Resultado esperado:\n",
        "#>  array([ 0, -1,  2, -1,  4, -1,  6, -1,  8, -1])"
      ],
      "metadata": {
        "id": "euODfutYoxRN"
      },
      "execution_count": 14,
      "outputs": []
    },
    {
      "cell_type": "markdown",
      "source": [
        "## Convierte un array de 1D a uno de 2D de dos filas"
      ],
      "metadata": {
        "id": "4JEdWFPhoGdW"
      }
    },
    {
      "cell_type": "code",
      "source": [
        "arr = np.arange(10)\n",
        "print(arr)"
      ],
      "metadata": {
        "colab": {
          "base_uri": "https://localhost:8080/"
        },
        "id": "Qb_m5EaBpsyM",
        "outputId": "5e6751bf-3f71-44aa-8ca6-9fbbb6dba6cc"
      },
      "execution_count": 15,
      "outputs": [
        {
          "output_type": "stream",
          "name": "stdout",
          "text": [
            "[0 1 2 3 4 5 6 7 8 9]\n"
          ]
        }
      ]
    },
    {
      "cell_type": "code",
      "source": [
        "arr.reshape((2,5))"
      ],
      "metadata": {
        "id": "vL6tasXCpsuN",
        "colab": {
          "base_uri": "https://localhost:8080/"
        },
        "outputId": "c6a03aa3-5c4a-44c5-d5dd-d9091b950115"
      },
      "execution_count": 16,
      "outputs": [
        {
          "output_type": "execute_result",
          "data": {
            "text/plain": [
              "array([[0, 1, 2, 3, 4],\n",
              "       [5, 6, 7, 8, 9]])"
            ]
          },
          "metadata": {},
          "execution_count": 16
        }
      ]
    },
    {
      "cell_type": "code",
      "source": [
        "c = np.arange(10).reshape((2,5))\n",
        "c"
      ],
      "metadata": {
        "colab": {
          "base_uri": "https://localhost:8080/"
        },
        "id": "TJQK8CluOW0s",
        "outputId": "947ea9f5-e2c4-48b2-da51-22ae9f4a43b7"
      },
      "execution_count": 17,
      "outputs": [
        {
          "output_type": "execute_result",
          "data": {
            "text/plain": [
              "array([[0, 1, 2, 3, 4],\n",
              "       [5, 6, 7, 8, 9]])"
            ]
          },
          "metadata": {},
          "execution_count": 17
        }
      ]
    },
    {
      "cell_type": "code",
      "source": [
        "# Resultado esperado\n",
        "#> array([[0, 1, 2, 3, 4],\n",
        "#>        [5, 6, 7, 8, 9]])"
      ],
      "metadata": {
        "id": "rtL4kukVpsrK"
      },
      "execution_count": 18,
      "outputs": []
    },
    {
      "cell_type": "markdown",
      "source": [
        "## Extrae todos los numeros que se encuentren entre 5 y 10 del siguiente array"
      ],
      "metadata": {
        "id": "71Gj2FrYoGaM"
      }
    },
    {
      "cell_type": "code",
      "source": [
        "arr = np.array([2, 6, 1, 9, 10, 3, 27])\n",
        "# \n",
        "# print(arr)\n",
        "arr"
      ],
      "metadata": {
        "id": "Ehfe4UHD_z92",
        "colab": {
          "base_uri": "https://localhost:8080/"
        },
        "outputId": "0de1cf14-8d5b-4259-b785-5191253b6e52"
      },
      "execution_count": 19,
      "outputs": [
        {
          "output_type": "execute_result",
          "data": {
            "text/plain": [
              "array([ 2,  6,  1,  9, 10,  3, 27])"
            ]
          },
          "metadata": {},
          "execution_count": 19
        }
      ]
    },
    {
      "cell_type": "code",
      "source": [
        "arr =   arr[(arr> 5)& (arr < 11)] \n",
        "arr"
      ],
      "metadata": {
        "id": "WH-kiqcV_ziN",
        "colab": {
          "base_uri": "https://localhost:8080/"
        },
        "outputId": "42b6685d-1981-4a5c-b94b-a06ddcf14635"
      },
      "execution_count": 20,
      "outputs": [
        {
          "output_type": "execute_result",
          "data": {
            "text/plain": [
              "array([ 6,  9, 10])"
            ]
          },
          "metadata": {},
          "execution_count": 20
        }
      ]
    },
    {
      "cell_type": "code",
      "source": [
        "# Resultado esperado\n",
        "#> (array([6, 9, 10]),)"
      ],
      "metadata": {
        "id": "NVDI5Fep_zfR"
      },
      "execution_count": 21,
      "outputs": []
    },
    {
      "cell_type": "markdown",
      "source": [
        "## Intercambia de posicion la primera y la segunda columna de la siguiente matriz"
      ],
      "metadata": {
        "id": "v6nMylq6oT53"
      }
    },
    {
      "cell_type": "code",
      "source": [
        "arr = np.arange(9).reshape(3,3)\n",
        "print(arr)"
      ],
      "metadata": {
        "colab": {
          "base_uri": "https://localhost:8080/"
        },
        "id": "W4td-AoVBPnm",
        "outputId": "610337b1-94fe-46d1-99f8-ed9e3f5ea72d"
      },
      "execution_count": 8,
      "outputs": [
        {
          "output_type": "stream",
          "name": "stdout",
          "text": [
            "[[0 1 2]\n",
            " [3 4 5]\n",
            " [6 7 8]]\n"
          ]
        }
      ]
    },
    {
      "cell_type": "code",
      "source": [
        "print('original array')\n",
        "print(arr)\n",
        "print(\"\\n\")\n",
        "# print(arr[:,0])\n",
        "print('swap columns')\n",
        "arr[:, [0,1]] = arr[:,[1,0]]\n",
        "print(arr)\n",
        "print(\"\\n\")\n",
        "arr"
      ],
      "metadata": {
        "id": "SBNS7ftABPkh",
        "colab": {
          "base_uri": "https://localhost:8080/"
        },
        "outputId": "d3247068-453a-44b9-8aca-373d535a4413"
      },
      "execution_count": 51,
      "outputs": [
        {
          "output_type": "stream",
          "name": "stdout",
          "text": [
            "original array\n",
            "[[0 1 2]\n",
            " [3 4 5]\n",
            " [6 7 8]]\n",
            "\n",
            "\n",
            "swap columns\n",
            "[[1 0 2]\n",
            " [4 3 5]\n",
            " [7 6 8]]\n",
            "\n",
            "\n"
          ]
        },
        {
          "output_type": "execute_result",
          "data": {
            "text/plain": [
              "array([[1, 0, 2],\n",
              "       [4, 3, 5],\n",
              "       [7, 6, 8]])"
            ]
          },
          "metadata": {},
          "execution_count": 51
        }
      ]
    },
    {
      "cell_type": "code",
      "source": [
        "# Reultado esperado\n",
        "#> array([[1, 0, 2],\n",
        "#>        [4, 3, 5],\n",
        "#>        [7, 6, 8]])\n",
        "\n"
      ],
      "metadata": {
        "id": "ZQWkhGO2EcTj"
      },
      "execution_count": 24,
      "outputs": []
    },
    {
      "cell_type": "code",
      "source": [
        "print('swap rows')\n",
        "arr[[0,1],:] = arr[[1,0],:]\n",
        "print(arr)"
      ],
      "metadata": {
        "colab": {
          "base_uri": "https://localhost:8080/"
        },
        "id": "mRf24tE96AvG",
        "outputId": "5de3a30c-0372-4ed3-aab1-97abbc44b12e"
      },
      "execution_count": 52,
      "outputs": [
        {
          "output_type": "stream",
          "name": "stdout",
          "text": [
            "swap rows\n",
            "[[4 3 5]\n",
            " [1 0 2]\n",
            " [7 6 8]]\n"
          ]
        }
      ]
    },
    {
      "cell_type": "code",
      "source": [
        "my_array = np.arange(12).reshape(4, 3)\n",
        "print(\"Original Array : \")\n",
        "print(my_array)"
      ],
      "metadata": {
        "colab": {
          "base_uri": "https://localhost:8080/"
        },
        "id": "DGUtVmnX_oLk",
        "outputId": "94a57a43-7db4-4283-8709-36acdea36517"
      },
      "execution_count": 2,
      "outputs": [
        {
          "output_type": "stream",
          "name": "stdout",
          "text": [
            "Original Array : \n",
            "[[ 0  1  2]\n",
            " [ 3  4  5]\n",
            " [ 6  7  8]\n",
            " [ 9 10 11]]\n"
          ]
        }
      ]
    },
    {
      "cell_type": "code",
      "source": [
        "def Swap(ara, start_index, last_index):\n",
        "    ara[:, [start_index, last_index]] = ara[:, [last_index, start_index]]\n",
        "\n",
        "Swap(arr,0,1)    \n",
        "print(arr)"
      ],
      "metadata": {
        "colab": {
          "base_uri": "https://localhost:8080/"
        },
        "id": "uYDO3SdJ-D2i",
        "outputId": "7987ebd1-9d2a-4946-8538-dfc51ce2a7c1"
      },
      "execution_count": 16,
      "outputs": [
        {
          "output_type": "stream",
          "name": "stdout",
          "text": [
            "[[0 1 2]\n",
            " [3 4 5]\n",
            " [6 7 8]]\n"
          ]
        }
      ]
    },
    {
      "cell_type": "code",
      "source": [
        "Swap(my_array, 0, 1)\n",
        "print(\" After Swapping :\")\n",
        "print(my_array)"
      ],
      "metadata": {
        "colab": {
          "base_uri": "https://localhost:8080/"
        },
        "id": "20KGq6pJ_rjO",
        "outputId": "9c19d2cf-d277-40e6-be02-ca8cc8666324"
      },
      "execution_count": 17,
      "outputs": [
        {
          "output_type": "stream",
          "name": "stdout",
          "text": [
            " After Swapping :\n",
            "[[ 0  1  2]\n",
            " [ 3  4  5]\n",
            " [ 6  7  8]\n",
            " [ 9 10 11]]\n"
          ]
        }
      ]
    },
    {
      "cell_type": "markdown",
      "source": [
        "## Minimos cuadrados ordinarios"
      ],
      "metadata": {
        "id": "V5Gt_q7nEWoI"
      }
    },
    {
      "cell_type": "markdown",
      "source": [
        "La siguiente es la formula para la regresion lineal de minimos cuadrados ordinarios\n"
      ],
      "metadata": {
        "id": "EedRaGIqoGXS"
      }
    },
    {
      "cell_type": "markdown",
      "source": [
        "![image.png](data:image/png;base64,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)"
      ],
      "metadata": {
        "id": "XNR7J8TuDLpb"
      }
    },
    {
      "cell_type": "markdown",
      "source": [
        "En esa formula, las multiplicaciones son producto punto. (Recordando que el producto punto de dos matrices en numpy es `A.dot(B)` o `A @ B`)  \n",
        "Las `T` en el superindice indican la transpuesta de la matriz  \n",
        "Los `-1` en el superindice indican la inversa de una matriz.  \n"
      ],
      "metadata": {
        "id": "bGJDQFJbDvH0"
      }
    },
    {
      "cell_type": "markdown",
      "source": [
        "La inversa de una matriz cuadrada `A` en numpy es `np.linalg.inv(A)`"
      ],
      "metadata": {
        "id": "2fRJzFF-Eqjf"
      }
    },
    {
      "cell_type": "markdown",
      "source": [
        "Para los siguientes datos, calcula el estimador beta como se indica en la formula de minimos cuadrados ordinarios:"
      ],
      "metadata": {
        "id": "FOMM4DA3E5LQ"
      }
    },
    {
      "cell_type": "code",
      "source": [
        "X = np.array([\n",
        "  [5, 7, 8],\n",
        "  [1, 1, 3],\n",
        "  [5, 0, 7],\n",
        "  [7, 3, 4],\n",
        "  [6, 7, 7],\n",
        "  [6, 7, 9],\n",
        "  [6, 1, 4],\n",
        "  [9, 0, 0],\n",
        "  [0, 5, 9],\n",
        "  [2, 8, 6]])\n",
        "y = np.array([3.5, 3.1, -18.8, 9.5, 18.5, 6.8, 0., 7.6, -11.2, 13.3])"
      ],
      "metadata": {
        "id": "HTAaQ9-FEkyA"
      },
      "execution_count": 2,
      "outputs": []
    },
    {
      "cell_type": "code",
      "source": [
        "(np.linalg.inv(X.T@X))@(X.T@y)\n"
      ],
      "metadata": {
        "colab": {
          "base_uri": "https://localhost:8080/"
        },
        "id": "eG24DkoeZhMk",
        "outputId": "17753856-0cf5-49a2-96ee-47f1e84f8c4c"
      },
      "execution_count": 15,
      "outputs": [
        {
          "output_type": "execute_result",
          "data": {
            "text/plain": [
              "array([ 1.22232275,  4.04574544, -3.26763476])"
            ]
          },
          "metadata": {},
          "execution_count": 15
        }
      ]
    },
    {
      "cell_type": "code",
      "source": [
        "Z = np.linalg.inv(X.T@X)\n",
        "W= X.T@y\n",
        "print(Z)\n",
        "print(W)\n",
        "Z@W"
      ],
      "metadata": {
        "colab": {
          "base_uri": "https://localhost:8080/"
        },
        "id": "WUaqTz9nYyGb",
        "outputId": "8a4427aa-2e4c-4b97-dc51-0b4537bad7fb"
      },
      "execution_count": 12,
      "outputs": [
        {
          "output_type": "stream",
          "name": "stdout",
          "text": [
            "[[ 0.00659865  0.00040812 -0.00420138]\n",
            " [ 0.00040812  0.01944695 -0.01382114]\n",
            " [-0.00420138 -0.01382114  0.01463803]]\n",
            "[239.9 283.6 113.4]\n"
          ]
        },
        {
          "output_type": "execute_result",
          "data": {
            "text/plain": [
              "array([ 1.22232275,  4.04574544, -3.26763476])"
            ]
          },
          "metadata": {},
          "execution_count": 12
        }
      ]
    },
    {
      "cell_type": "code",
      "source": [
        "# Resultado esperado\n",
        "#> array([ 1.22232275,  4.04574544, -3.26763476])"
      ],
      "metadata": {
        "id": "O89T8cGGH9jx"
      },
      "execution_count": 26,
      "outputs": []
    },
    {
      "cell_type": "markdown",
      "source": [
        "Los valores reales eran `np.array([1, 4, -3])`, ¿es esta una buena estimacion?"
      ],
      "metadata": {
        "id": "Z_BUGvaeImUh"
      }
    }
  ]
}