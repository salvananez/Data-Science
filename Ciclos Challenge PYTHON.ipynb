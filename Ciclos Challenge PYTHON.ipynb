{
  "nbformat": 4,
  "nbformat_minor": 0,
  "metadata": {
    "colab": {
      "provenance": [],
      "collapsed_sections": [],
      "include_colab_link": true
    },
    "kernelspec": {
      "name": "python3",
      "display_name": "Python 3"
    },
    "language_info": {
      "name": "python"
    }
  },
  "cells": [
    {
      "cell_type": "markdown",
      "metadata": {
        "id": "view-in-github",
        "colab_type": "text"
      },
      "source": [
        "<a href=\"https://colab.research.google.com/github/salvananez/Data-Science/blob/main/Ciclos%20Challenge%20PYTHON.ipynb\" target=\"_parent\"><img src=\"https://colab.research.google.com/assets/colab-badge.svg\" alt=\"Open In Colab\"/></a>"
      ]
    },
    {
      "cell_type": "markdown",
      "metadata": {
        "id": "VEn_SLPyboN0"
      },
      "source": [
        "# Ciclos\n"
      ]
    },
    {
      "cell_type": "markdown",
      "metadata": {
        "id": "Ltf91jwLSB_d"
      },
      "source": [
        "Lee con atención las instrucciones en los siguientes ejercicios y ejecuta:"
      ]
    },
    {
      "cell_type": "markdown",
      "metadata": {
        "id": "8CXLWwF2TS5D"
      },
      "source": [
        "1. Escribe un ciclo que permita imprimir los números del 1 al 10"
      ]
    },
    {
      "cell_type": "code",
      "metadata": {
        "id": "wAOmpofLR1d5",
        "colab": {
          "base_uri": "https://localhost:8080/"
        },
        "outputId": "5d66b22a-bbce-49c9-f370-dcd779c30089"
      },
      "source": [
        "def ciclo():\n",
        "    i = 0\n",
        "    while i < 11:\n",
        "      print(i, end=' ')\n",
        "      i += 1\n",
        "      \n",
        "\n",
        "ciclo() "
      ],
      "execution_count": 14,
      "outputs": [
        {
          "output_type": "stream",
          "name": "stdout",
          "text": [
            "0 1 2 3 4 5 6 7 8 9 10 "
          ]
        }
      ]
    },
    {
      "cell_type": "markdown",
      "metadata": {
        "id": "JGlH_p9ll3yO"
      },
      "source": [
        "2. Escribe un ciclo que imprima los números pares entre el 30 y el 50 (incluyendo el 30 y excluyendo el 50)"
      ]
    },
    {
      "cell_type": "code",
      "metadata": {
        "id": "_hobkTpAUEB4",
        "colab": {
          "base_uri": "https://localhost:8080/"
        },
        "outputId": "0055ef2f-8ccd-4a5e-8c79-df9575f2241b"
      },
      "source": [
        "def ciclo2():\n",
        "    n = 30\n",
        "    while n <50:\n",
        "      print(n, end=' ')\n",
        "      n +=2\n",
        "\n",
        "ciclo2()      "
      ],
      "execution_count": 15,
      "outputs": [
        {
          "output_type": "stream",
          "name": "stdout",
          "text": [
            "30 32 34 36 38 40 42 44 46 48 "
          ]
        }
      ]
    },
    {
      "cell_type": "code",
      "source": [
        "def pares():\n",
        "    i = 29  \n",
        "    while i <= 50: \n",
        "      i += 1  \n",
        "      if i % 2 == 0:\n",
        "        print(i, end = ' ')\n",
        "         \n",
        "pares()    "
      ],
      "metadata": {
        "colab": {
          "base_uri": "https://localhost:8080/"
        },
        "id": "uRI461J9MMwD",
        "outputId": "cab92991-4146-482b-bfd0-940ea13fb6c8"
      },
      "execution_count": 61,
      "outputs": [
        {
          "output_type": "stream",
          "name": "stdout",
          "text": [
            "30 32 34 36 38 40 42 44 46 48 50 "
          ]
        }
      ]
    },
    {
      "cell_type": "markdown",
      "metadata": {
        "id": "cCqs1tjHNpv4"
      },
      "source": [
        "3. Escribe un ciclo que imprima los valores entre el 3 y el 8 en pasos de 2 en 2."
      ]
    },
    {
      "cell_type": "code",
      "metadata": {
        "colab": {
          "base_uri": "https://localhost:8080/"
        },
        "id": "70-kC-f9oqAe",
        "outputId": "554ca562-64fb-4e05-bf44-5fbddbc0da69"
      },
      "source": [
        "def ciclo3():\n",
        "    a = 4\n",
        "    while a < 9:\n",
        "      print(a, end=' ')\n",
        "      a +=2\n",
        "\n",
        "ciclo3()            "
      ],
      "execution_count": 20,
      "outputs": [
        {
          "output_type": "stream",
          "name": "stdout",
          "text": [
            "4 6 8 "
          ]
        }
      ]
    },
    {
      "cell_type": "markdown",
      "metadata": {
        "id": "nTis6gKvoNkm"
      },
      "source": [
        "4. Escribe un ciclo que recorra la siguiente lista e imprima cada nombre de pokemon:"
      ]
    },
    {
      "cell_type": "code",
      "metadata": {
        "id": "C2B4nzcENgB7"
      },
      "source": [
        "pokemon = ['Bulbasaur', 'Ivysaur', 'Squirtle', 'Venusaur', 'Charmander', 'Squirtle', 'Charmeleon', 'Pidgey', 'Pikachu', 'Squirtle']"
      ],
      "execution_count": null,
      "outputs": []
    },
    {
      "cell_type": "code",
      "metadata": {
        "id": "l-hgO3AFkVzk",
        "colab": {
          "base_uri": "https://localhost:8080/"
        },
        "outputId": "dfd2b43e-d4f8-4f86-9a39-516a8c576d7d"
      },
      "source": [
        "pokemon = ['Bulbasaur', 'Ivysaur', 'Squirtle', 'Venusaur', 'Charmander', 'Squirtle', 'Charmeleon', 'Pidgey', 'Pikachu', 'Squirtle']\n",
        "def poke(poke):\n",
        "    for p in poke:\n",
        "        print(p, end=\", \")\n",
        "\n",
        "poke(pokemon)        "
      ],
      "execution_count": 33,
      "outputs": [
        {
          "output_type": "stream",
          "name": "stdout",
          "text": [
            "Bulbasaur, Ivysaur, Squirtle, Venusaur, Charmander, Squirtle, Charmeleon, Pidgey, Pikachu, Squirtle, "
          ]
        }
      ]
    },
    {
      "cell_type": "markdown",
      "metadata": {
        "id": "h7VTsi7Lh3C-"
      },
      "source": [
        "5. Escribe un ciclo que recorra la lista pokemon. En caso de encontrarnos con el nombre 'Squirtle' al iterar la lista, imprima un mensaje con el siguiente formato:\n",
        "\n",
        "index - pokemon - Vamo a calmarno\n",
        "\n",
        "Donde:\n",
        "- index es número de posición en la lista donde encontramos 'Squirtle'. Debe ser una variable.\n",
        "- pokemon es el nombre del pokemon que estamos buscando\n",
        "- \"Vamo a calmarno\" es la frase de nuestro pokemon. "
      ]
    },
    {
      "cell_type": "code",
      "source": [
        "def squirt(pk):\n",
        "    for index, p in enumerate(pk,start=1):\n",
        "\n",
        "        if p == 'Squirtle':\n",
        "          print(index, p, 'vamo a calmarno')\n",
        "          # break\n",
        "       \n",
        "squirt(pokemon)"
      ],
      "metadata": {
        "colab": {
          "base_uri": "https://localhost:8080/"
        },
        "id": "K_62BbDsRXmq",
        "outputId": "e4db0c06-8dbc-49f0-b44c-256349c16222"
      },
      "execution_count": 60,
      "outputs": [
        {
          "output_type": "stream",
          "name": "stdout",
          "text": [
            "3 Squirtle vamo a calmarno\n",
            "6 Squirtle vamo a calmarno\n",
            "10 Squirtle vamo a calmarno\n"
          ]
        }
      ]
    },
    {
      "cell_type": "markdown",
      "metadata": {
        "id": "HOwNy5VOorNy"
      },
      "source": [
        "6. Del 0 al 20, muestra los valores en este rango de de 3 en 3, mediante un ciclo while (incluyendo al 20). Utiliza un condicional IF dentro del ciclo para detenerlo (utiliza break)."
      ]
    },
    {
      "cell_type": "code",
      "metadata": {
        "id": "mZx6iGmeoqEA",
        "colab": {
          "base_uri": "https://localhost:8080/"
        },
        "outputId": "c0fd9e6b-958c-474c-cde1-42cf128db103"
      },
      "source": [
        "def ciclo4():\n",
        "    i=0\n",
        "    while i <=20:\n",
        "      print(i,end=' ')\n",
        "      if i==20:\n",
        "        break\n",
        "      i+=3 \n",
        "\n",
        "ciclo4()       "
      ],
      "execution_count": 69,
      "outputs": [
        {
          "output_type": "stream",
          "name": "stdout",
          "text": [
            "0 3 6 9 12 15 18 "
          ]
        }
      ]
    },
    {
      "cell_type": "markdown",
      "metadata": {
        "id": "ato2HirpOAy9"
      },
      "source": [
        "7. Repite el ejercicio del punto 6 pero utilizando sólo la condicional del while."
      ]
    },
    {
      "cell_type": "code",
      "metadata": {
        "id": "r4NtOzm3op94",
        "colab": {
          "base_uri": "https://localhost:8080/"
        },
        "outputId": "4ab1ccca-66ea-4ac9-e3f0-f52a84a2f74f"
      },
      "source": [
        "def ciclo4():\n",
        "    i=0\n",
        "    while i <=20:\n",
        "      print(i,end=' ')\n",
        "      # if i==20:\n",
        "      #   break\n",
        "      i+=3 \n",
        "\n",
        "ciclo4()       "
      ],
      "execution_count": 70,
      "outputs": [
        {
          "output_type": "stream",
          "name": "stdout",
          "text": [
            "0 3 6 9 12 15 18 "
          ]
        }
      ]
    },
    {
      "cell_type": "markdown",
      "metadata": {
        "id": "5W25SYZeORtE"
      },
      "source": [
        "8. Escribe un ciclo para imprimir los números impares entre el 0 y el 10. Utiliza una condicional junto con la palabra reservada \"continue\"."
      ]
    },
    {
      "cell_type": "code",
      "metadata": {
        "id": "mTpYdCzFop7s",
        "colab": {
          "base_uri": "https://localhost:8080/"
        },
        "outputId": "099ba53a-dab1-4822-829f-7bdaace44b95"
      },
      "source": [
        "def impares():\n",
        "    i= 0\n",
        "    while i <10:\n",
        "      i+=1\n",
        "      if i %2 ==1:\n",
        "        print(i,end=\" \")\n",
        "\n",
        "impares()        "
      ],
      "execution_count": 73,
      "outputs": [
        {
          "output_type": "stream",
          "name": "stdout",
          "text": [
            "1 3 5 7 9 "
          ]
        }
      ]
    },
    {
      "cell_type": "markdown",
      "metadata": {
        "id": "_jKHKuBkbxhX"
      },
      "source": [
        "###Recursos extra para estudiar y ejercios\n"
      ]
    },
    {
      "cell_type": "markdown",
      "metadata": {
        "id": "86XEDrCbdBCr"
      },
      "source": [
        "- Uso de [range en Python](https://www.w3schools.com/python/ref_func_range.asp)\n",
        "- Articulo corto de [Ciclos](https://pythonparanovatos.com/blog/como-usar-bucles-en-python/)\n",
        "- Ciclo for según [W3Schools](https://www.w3schools.com/python/python_for_loops.asp)\n",
        "- Ciclo while según [W3Schools](https://www.w3schools.com/python/python_while_loops.asp)\n",
        "- Ejercicios practicos en portal de [W3Schools](https://www.w3schools.com/python/python_exercises.asp)"
      ]
    }
  ]
}