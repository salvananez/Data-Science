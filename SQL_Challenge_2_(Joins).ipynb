{
  "nbformat": 4,
  "nbformat_minor": 0,
  "metadata": {
    "colab": {
      "provenance": [],
      "collapsed_sections": [],
      "include_colab_link": true
    },
    "kernelspec": {
      "name": "python3",
      "display_name": "Python 3"
    },
    "language_info": {
      "name": "python"
    }
  },
  "cells": [
    {
      "cell_type": "markdown",
      "metadata": {
        "id": "view-in-github",
        "colab_type": "text"
      },
      "source": [
        "<a href=\"https://colab.research.google.com/github/salvananez/Data-Science/blob/main/SQL_Challenge_2_(Joins).ipynb\" target=\"_parent\"><img src=\"https://colab.research.google.com/assets/colab-badge.svg\" alt=\"Open In Colab\"/></a>"
      ]
    },
    {
      "cell_type": "markdown",
      "source": [
        "# Challenge: Países, ciudades y monedas"
      ],
      "metadata": {
        "id": "-pNWScUokvZ8"
      }
    },
    {
      "cell_type": "markdown",
      "source": [
        "Para el reto de hoy se trabajará con datos de países que contiene información sobre las ciudades más pobladas del mundo, así como datos económicos a nivel de país, datos de población y datos geográficos. 🤓\n",
        "\n",
        "En este ejercicio se deberá de explorar una forma de obtener datos de las tablas de países y economías para examinar la tasa de inflación tanto para 2010 como para 2015. 😉"
      ],
      "metadata": {
        "id": "04ukMAXTkwVg"
      }
    },
    {
      "cell_type": "markdown",
      "source": [
        "## Preparación de los datos\n",
        "\n",
        "Antes de comenzar, repetiremos un proceso que vimos en la leccion anterior. Sigue estos pasos para crear una nueva base de datos e importar un CSV en una tabla nueva."
      ],
      "metadata": {
        "id": "VEob4ygnwQrB"
      }
    },
    {
      "cell_type": "markdown",
      "source": [
        "1. Conéctate a MySQL Server: abre MySQL Workbench y haz clic en la conexión a tu servidor local. Ingresa tu usuario y contraseña.\n",
        "\n",
        "¿Aún no tienes hecha tu conexión? Averigua cómo hacerla [aquí](https://dev.mysql.com/doc/workbench/en/wb-mysql-connections-new.html)"
      ],
      "metadata": {
        "id": "0rKp_z6t701h"
      }
    },
    {
      "cell_type": "markdown",
      "source": [
        "2. Una vez conectado, acceda al menú de schemas del lado izquierdo:\n",
        "\n",
        "![schema0](https://drive.google.com/uc?export=view&id=1U0f_wShC6QU4c2WDNE7Vt0Hv2cR4xNvY)"
      ],
      "metadata": {
        "id": "aDweLGvx8tnk"
      }
    },
    {
      "cell_type": "markdown",
      "source": [
        "3. Una vez en la sección de Schemas, has clic en un espacio en blanco y selecciona 'Create Schema...'\n",
        "![schema11](https://drive.google.com/uc?export=view&id=1FSuEnZ6SVq_jwEomds1xu13uqpdh2esE)\n",
        "\n",
        "4. Del lado derecho verás algo como lo siguiente. Allí, deberás ingresar el nombre **'master'** como el nombre de tu Schema.\n",
        "![schema2](https://drive.google.com/uc?export=view&id=1xIF_pHC-W1miKwNt5ghT0IjKjRjvn9Lo)\n",
        "\n",
        "5. Sigue los pasos de la ventana que aparecerá hasta que veas la siguiente pantalla:\n",
        "![schema31](https://drive.google.com/uc?export=view&id=1cUliC80ZhXONdfyB3hjSNGD9sOMXEJ2P)"
      ],
      "metadata": {
        "id": "0aIjj9muAAjq"
      }
    },
    {
      "cell_type": "markdown",
      "source": [
        "6. Verás un nuevo ícono en Schemas con el nombre de tu schema, haz clic derecho sobre él y selecciona \"Table Data Import Wizard\"\n",
        "![schema32](https://drive.google.com/uc?export=view&id=1WEPKNEM2bLSfJPVJ_46Mwanr3ofwZXAa)\n",
        "\n",
        "7. Ha llegado la hora de descargar los siguientes archivos:\n",
        "*  [cities](https://drive.google.com/file/d/1tSZBx32V6P6qfyGb9DOfmEmSaTtCbMtm/view?usp=sharing)\n",
        "\n",
        "*   [countries](https://drive.google.com/file/d/1Js2H_Djlw8JaVOIp1vcWDigHN6gIPKR4/view?usp=sharing)\n",
        "\n",
        "*   [languages](https://drive.google.com/file/d/1lwlOI09uD3Citq1_OjsDN7jM8CiJvpKc/view?usp=sharing)\n",
        "\n",
        "*   [economies](https://drive.google.com/file/d/19EC_01FqSgVd-8tlScrk96rhf3vjhGnm/view?usp=sharing)\n",
        "\n",
        "*   [populations](https://drive.google.com/file/d/1gb9W6cgh69f_wWtlI617ZyANu1SdfJbH/view?usp=sharing)\n",
        "\n",
        "\n",
        "\n",
        "Una vez que lo hayas hecho, haz clic en \"Browse\" y selecciónalo.\n",
        "![schema4](https://drive.google.com/uc?export=view&id=1LlmG3l_bECO-XdzMZwANyczHiESurdt8)\n",
        "\n",
        "8. En esta pantalla solo haz clic en \"Next\"\n",
        "![schema5](https://drive.google.com/uc?export=view&id=18Vmm6L-tmvBPtdudw9_FKLt9b2G1Rrec)\n",
        "\n",
        "9. En esta pantalla, verifica que la pequeña muestra de la tabla se muestre correctamente y haz clic en \"Next\"\n",
        "![schema6](https://drive.google.com/uc?export=view&id=16IJhI72JEPKDpJYtQzG7_qLZuJKVd6zX)\n",
        "\n",
        "10. Finalmente, clic en \"Next\" a esta pantalla y espera a que se importen los datos. Al terminar haz clic en \"Finish\".\n",
        "![schema7](https://drive.google.com/uc?export=view&id=1rn_zBpQ5ILq13nCpe189JVvFdKbCnb4o)\n",
        "\n",
        "11. Ahora, en el editor de scripts del lado derecho, escribe:\n",
        "\n",
        "```\n",
        "use master;\n",
        "show tables;\n",
        "```\n",
        "\n",
        "Deberías ver el siguiente resultado:\n",
        "\n",
        "![schema8](https://drive.google.com/uc?export=view&id=1HLvJv6aw8gc3cKZP3xdWDL0u5vBVjVlB)"
      ],
      "metadata": {
        "id": "d6MvYaqIg4r0"
      }
    },
    {
      "cell_type": "markdown",
      "source": [
        "## Ahora sí, hagamos algunos joins sobre esa base de datos 🤠\n",
        "\n",
        "NOTA: En algunos de los siguientes ejercicios te vamos a pedir que utilices alias para columnas con el mismo nombre en diferentes tablas, si no está familiarizado con este tema, te dejamos este [link](https://www.w3schools.com/sql/sql_alias.asp)."
      ],
      "metadata": {
        "id": "nE4naQiA3wSW"
      }
    },
    {
      "cell_type": "markdown",
      "source": [
        "1. Utiliza un INNER JOIN para cruzar la tablas `cities` y `countries`.\n",
        "\n",
        "Selecciona el nombre de la ciudad (con alias 'city'), el código de país, el nombre del país (con alias 'country') y la columna city_prop_population (población propia de la ciudad). Finalmente, ordena en orden descendente por la columna que ambas tablas tienen en común.\n",
        "\n",
        "```\n",
        "select ci.name City, ci.country_code code, co.region, ci.city_proper_pop ProperPop from cities ci\n",
        "```\n",
        "Resultado esperado:\n",
        "\n",
        "![challenge1](https://drive.google.com/uc?export=view&id=1m3FMG5fF6AJ0-MbUdNCZh84HflOySaWW)"
      ],
      "metadata": {
        "id": "UyJcYPiikwj5"
      }
    },
    {
      "cell_type": "markdown",
      "source": [
        "**2.** Utiliza un LEFT JOIN para cruzar la tablas `countries` y `languages`.\n",
        "\n",
        "Selecciona el país (con alias 'country'), el nombre local del país (local_name), el nombre del idioma y, finalmente, el porcentaje del idioma hablado en cada país\n",
        "\n",
        "```\n",
        "inner join countries co on ci.country_code = co.code\n",
        "order by code desc;\n",
        "```\n",
        "\n",
        "Resultado esperado:\n",
        "\n",
        "![challenge2](https://drive.google.com/uc?export=view&id=1YOsKCcv8hBNIIgv5UhSzLmUkDR7KLQdt)\n"
      ],
      "metadata": {
        "id": "IFr6CSee-KZO"
      }
    },
    {
      "cell_type": "markdown",
      "source": [
        "3. Utiliza nuevamente un LEFT JOIN (o RIGHT JOIN si quiere alocarte un poco 🤓) para cruzar las tablas `countries` y `economies`.\n",
        "\n",
        "Selecciona el nombre del país, región y GDP per cápita (de `economies`). Finalmente, filtra las filas para obtener solo los resultados del año 2010.\n",
        "\n",
        "```\n",
        "select co.country_name Country, co.country_name local_name, la.name, la.percent from countries co\n",
        "left join languages la on co.code = la.code\n",
        "order by country_name desc;\n",
        "```\n",
        "\n",
        "Resultado esperado:\n",
        "\n",
        "![challenge3](https://drive.google.com/uc?export=view&id=17AnwxUyPRWm0vESA57MFKbevZCidUsGa)"
      ],
      "metadata": {
        "id": "6cCfUJU--K28"
      }
    },
    {
      "cell_type": "markdown",
      "source": [
        "**4.** Veamos si aprendiste la diferencia entre LEFT JOIN y RIGHT JOIN. Convierte el siguiente ejemplo para utilizar RIGHT JOINs pero obteniendo el mismo resultado.\n",
        "\n",
        "```\n",
        "\n",
        "select co.country_name, co.region, eco.gdp_percapita from countries co\n",
        "left join economies eco on co.code = eco.code\n",
        "where eco.year = 2010;\n",
        "\n",
        "\n",
        "```\n",
        "\n",
        "Resultado esperado: \n",
        "\n",
        "![challenge4](https://drive.google.com/uc?export=view&id=1BisqjIQDQK-wzrorsMHIyH4ml1irTDJH)"
      ],
      "metadata": {
        "id": "V-Z2JuYt-Lbt"
      }
    },
    {
      "cell_type": "markdown",
      "source": [
        "**5.** Has una subconsulta en WHERE donde calcules el promedio de la expectativa de vida en la tabla `populations`, filtrando solo para el año 2015.\n",
        "\n",
        "\n",
        "\n",
        "```\n",
        "select co.country_name, co.region, eco.gdp_percapita from economies eco\n",
        "right join countries co on co.code = eco.code\n",
        "where eco.year = 2010\n",
        "```\n",
        "\n",
        "Resultado esperado:\n",
        "\n",
        "![challenge5](https://drive.google.com/uc?export=view&id=1nb5lRTxxMT8nZvZJ2rW9d9CUFimz_7gH)"
      ],
      "metadata": {
        "id": "msDEW7rVzfas"
      }
    },
    {
      "cell_type": "code",
      "source": [],
      "metadata": {
        "id": "9dvuy_kXyUUc"
      },
      "execution_count": null,
      "outputs": []
    }
  ]
}