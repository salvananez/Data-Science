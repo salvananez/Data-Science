{
  "nbformat": 4,
  "nbformat_minor": 0,
  "metadata": {
    "colab": {
      "provenance": [],
      "collapsed_sections": [],
      "include_colab_link": true
    },
    "kernelspec": {
      "name": "python3",
      "display_name": "Python 3"
    },
    "language_info": {
      "name": "python"
    }
  },
  "cells": [
    {
      "cell_type": "markdown",
      "metadata": {
        "id": "view-in-github",
        "colab_type": "text"
      },
      "source": [
        "<a href=\"https://colab.research.google.com/github/salvananez/Data-Science/blob/main/Copy_of_Subconsultas%20(no%20terminado).ipynb\" target=\"_parent\"><img src=\"https://colab.research.google.com/assets/colab-badge.svg\" alt=\"Open In Colab\"/></a>"
      ]
    },
    {
      "cell_type": "markdown",
      "metadata": {
        "id": "jpheBv3k9cyn"
      },
      "source": [
        "# Joins y subconsultas"
      ]
    },
    {
      "cell_type": "markdown",
      "source": [
        "## Preparación de los datos\n",
        "\n",
        "Para esta clase vamos a utilizar la base de datos que creamos la clase pasada, sin embargo, ahora cargaremos 3 datasets a 3 tablas diferentes:\n",
        "- netflix_titles [| descargar |](https://drive.google.com/file/d/1W4sczeFJxmlo_UeW8VqiqJhkRHHtQbZX/view?usp=sharing): contiene registros de 100 títulos reales de Netflix con datos descriptivos de cada uno.\n",
        "- netflix_activity [| descargar |](https://drive.google.com/file/d/1TUgD6Wfaa5vA2T2XzqITMjt7a3G_kLaf/view?usp=sharing): un registro de la actividad de usuarios en Netflix. Cada fila representa un solo título visto por un usuario determinado en una fecha determinada.\n",
        "- netflix_users [| descargar |](https://drive.google.com/file/d/1apav2JAuxRaTQ90I8CI9cYpuTxC6wUt1/view?usp=sharing): Este dataset contiene los nombres de los usuarios así como el user_id correspondiente a cada uno.\n",
        "\n",
        "**NOTA:** *Si realizaste el challenge de la clase pasada, ¡ya tienes la tabla netflix_titles! Repite los pasos que aprendiste para crear las dos tablas faltantes y pasa directo a \"Tipos de JOIN\".*\n",
        "\n",
        "Sigue estos pasos para crear una nueva base de datos e importar un CSV en una tabla nueva."
      ],
      "metadata": {
        "id": "VEob4ygnwQrB"
      }
    },
    {
      "cell_type": "markdown",
      "source": [
        "1. Conéctate a MySQL Server: abre MySQL Workbench y haz clic en la conexión a tu servidor local. Ingresa tu usuario y contraseña.\n",
        "\n",
        "¿Aún no tienes hecha tu conexión? Averigua cómo hacerla [aquí](https://dev.mysql.com/doc/workbench/en/wb-mysql-connections-new.html)"
      ],
      "metadata": {
        "id": "0rKp_z6t701h"
      }
    },
    {
      "cell_type": "markdown",
      "source": [
        "2. Una vez conectado, acceda al menú de schemas del lado izquierdo:\n",
        "\n",
        "![schema0](https://drive.google.com/uc?export=view&id=1U0f_wShC6QU4c2WDNE7Vt0Hv2cR4xNvY)"
      ],
      "metadata": {
        "id": "aDweLGvx8tnk"
      }
    },
    {
      "cell_type": "markdown",
      "source": [
        "3. Una vez en la sección de Schemas, has clic en un espacio en blanco y selecciona 'Create Schema...'\n",
        "\n",
        "![schema11](https://drive.google.com/uc?export=view&id=1FSuEnZ6SVq_jwEomds1xu13uqpdh2esE)\n",
        "\n",
        "4. Del lado derecho verás algo como lo siguiente. Allí, deberás ingresar el nombre 'master' como el nombre de tu Schema.\n",
        "![schema2](https://drive.google.com/uc?export=view&id=1xIF_pHC-W1miKwNt5ghT0IjKjRjvn9Lo)\n",
        "\n",
        "5. Sigue los pasos de la ventana que aparecerá hasta que veas la siguiente pantalla:\n",
        "![schema31](https://drive.google.com/uc?export=view&id=1cUliC80ZhXONdfyB3hjSNGD9sOMXEJ2P)\n",
        "\n",
        "6. Verás un nuevo ícono en Schemas con el nombre de tu schema, haz clic derecho sobre él y selecciona \"Table Data Import Wizard\"\n",
        "![schema32](https://drive.google.com/uc?export=view&id=1WEPKNEM2bLSfJPVJ_46Mwanr3ofwZXAa)\n",
        "\n",
        "7. Haz clic en \"Browse\" y selecciona el archivo \"netflix_titles\" que has descargado previamente.\n",
        "![schema4](https://drive.google.com/uc?export=view&id=1X1ph4L-nGlgCSdLp8bBJ2NJAO1q8uCip)\n",
        "\n",
        "8. En esta pantalla solo haz clic en \"Next\"\n",
        "![schema5](https://drive.google.com/uc?export=view&id=1udbztvBZEkgm53j1MHGk1wif_KOMKfMP)\n",
        "\n",
        "9. En esta pantalla, verifica que la pequeña muestra de la tabla se muestre correctamente y haz clic en \"Next\"\n",
        "![schema6](https://drive.google.com/uc?export=view&id=1SzctA8uFEa4rG3gYdEJpxaCkNnJT-gCO)\n",
        "\n",
        "10. Finalmente, clic en \"Next\" a esta pantalla y espera a que se importen los datos. Al terminar haz clic en \"Finish\".\n",
        "![schema7](https://drive.google.com/uc?export=view&id=1rn_zBpQ5ILq13nCpe189JVvFdKbCnb4o)\n",
        "\n",
        "11. Ahora, en el editor de scripts del lado derecho, escribe:\n",
        "\n",
        "```\n",
        "use master;\n",
        "show tables;\n",
        "```\n",
        "\n",
        "Deberías ver el siguiente resultado:\n",
        "\n",
        "![schema8](https://drive.google.com/uc?export=view&id=1vmdH5OCVs-wcT-uueqL8zsZW8rcQKrFj)\n",
        "\n",
        "12. Repite los pasos 6 al 11 para insertar los dos datasets faltantes: netflix_activity y netflix_users"
      ],
      "metadata": {
        "id": "0aIjj9muAAjq"
      }
    },
    {
      "cell_type": "markdown",
      "source": [
        "## Tipos de JOIN"
      ],
      "metadata": {
        "id": "atbz-EFOZgxV"
      }
    },
    {
      "cell_type": "markdown",
      "source": [
        "Antes que nada, puedes echar un vistazo a tus tres tablas para ver qué contienen y su estructura:\n",
        "\n",
        "\n",
        "```\n",
        "USE master;\n",
        "\n",
        "SELECT * FROM netflix_titles;\n",
        "SELECT * FROM netflix_activity;\n",
        "SELECT * FROM netflix_users;\n",
        "```\n",
        "\n"
      ],
      "metadata": {
        "id": "1evQQjiw3zan"
      }
    },
    {
      "cell_type": "markdown",
      "source": [
        "Recuerda, hay diferentes tipos de JOIN en SQL:\n",
        "\n",
        "- **(INNER) JOIN:** Devuelve registros que tienen valores coincidentes en ambas tablas.\n",
        "- **LEFT (OUTER) JOIN:** Retorna todos los registros de la tabla \"de la izquierda\", y solo aquellas filas que coincidieron de la tabla \"de la derecha\". Las demás filas que no coincidieron, son descartadas.\n",
        "- **RIGHT (OUTER) JOIN:** Es lo mismo que un LEFT (OUTER) JOIN pero en la dirección opuesta, evitando que se pierdan registros de la tabla de la derecha.\n",
        "- **FULL (OUTER) JOIN (CROSS JOIN en MySQL):** Devuelve todos los registros de ambas tablas.\n",
        "\n",
        "![MySQL JOINs](https://drive.google.com/uc?export=view&id=1R6biBfWIpTEflCGxobHJzbeNMxcYe-24)"
      ],
      "metadata": {
        "id": "nkC_sa0l86hB"
      }
    },
    {
      "cell_type": "markdown",
      "source": [
        "## (INNER) JOIN"
      ],
      "metadata": {
        "id": "eCimCvEfNeJ0"
      }
    },
    {
      "cell_type": "markdown",
      "source": [
        "**Problema:** la tabla netflix_activity contiene la actividad de los usuarios viendo programas. Necesitamos saber, en primer lugar, cuáles fueron los shows vistos por cada usuario. Para lograr esto, necesitamos encontrar las coincidencias entre la tabla de actividad y la de títulos.\n",
        "\n",
        "Vamos entonces a unir las tablas netflix_titles y netflix_activity mediante las columnas show y show_id:\n",
        "\n",
        "```\n",
        "select nt.show_id, nt.title from netflix_titles nt\n",
        "inner join netflix_activity na on nt.show_id = na.show\n",
        "order by show_id;\n",
        "```\n",
        "\n",
        "¿Qué significa que un mismo título aparezca en varias filas?\n",
        "\n",
        "\n",
        "\n",
        "```\n",
        "Que el valor se repite varias veces en la tabla\n",
        "```\n",
        "\n"
      ],
      "metadata": {
        "id": "qd4jMHiyNlNx"
      }
    },
    {
      "cell_type": "code",
      "source": [],
      "metadata": {
        "id": "RvOd6Gr1KN6j"
      },
      "execution_count": null,
      "outputs": []
    },
    {
      "cell_type": "markdown",
      "source": [
        "## LEFT (OUTER) JOIN\n",
        "Lo anterior, nos generó una tabla con los todos los títulos vistos por los usuarios más la columna user_id, pero... ¿Quiénes son esos usuarios? ¡Nos encantaría conocer sus nombres! Afortunadamente tenemos una tabla `netflix_users` y también tiene una columna `user_id` y otra columna `nombre` 🤓\n",
        "\n",
        "Ahora, queremos añadir los nombres al resultado pero sin perder ninguna fila de la tabla del resultado anterior y descartando a los usuarios que no coincidan de la tabla de usuarios. Para realizar esto, nos sirve un `LEFT JOIN`.\n",
        "\n",
        "```\n",
        "SELECT netflix_titles.show_id, netflix_titles.title, netflix_activity.user_id\n",
        "FROM netflix_titles\n",
        "INNER JOIN netflix_activity ON netflix_titles.show_id=netflix_activity.show\n",
        "ORDER BY show_id;\n",
        "```\n",
        "\n",
        "Nota que esta ver utilizamos USING dado que la columna en ambas tablas se llama igual."
      ],
      "metadata": {
        "id": "8AIibQH-NuPo"
      }
    },
    {
      "cell_type": "markdown",
      "source": [
        "### RIGHT (OUTER) JOIN\n",
        "Veamos qué pasa si la consulta anterior la hacemos con un RIGHT JOIN en lugar de un LEFT JOIN. ¿Ves alguna diferencia en el resultado?\n",
        "\n",
        "```\n",
        "SELECT netflix_titles.show_id, netflix_titles.title, netflix_activity.user_id, netflix_users.nombre\n",
        "FROM netflix_titles\n",
        "INNER JOIN netflix_activity ON netflix_titles.show_id=netflix_activity.show\n",
        "RIGHT JOIN netflix_users USING(user_id)\n",
        "ORDER BY show_id;\n",
        "```\n",
        "\n",
        "Podremos ver mejor qué pasa con el RIGHT JOIN si unimos `netflix_activity` con `netflix_users`\n",
        "\n",
        "```\n",
        "SELECT netflix_activity.show, netflix_titles.show_id, netflix_titles.title, COUNT(*)\n",
        "FROM netflix_titles\n",
        "RIGHT JOIN netflix_activity ON netflix_activity.show=netflix_titles.show_id\n",
        "GROUP BY netflix_activity.show\n",
        "ORDER BY netflix_activity.show;\n",
        "```\n",
        "\n",
        "Observa al columna `show`. Podrás notar que algunos `show_id` faltan. Esto se debe a que hicimos el JOIN preservando las coincidencias de la tabla `netflix_activity` más sus propias filas. Esto deja fuera las filas de `netflix_titles` que no coincidieron en `show_id` con `netflix_activity`."
      ],
      "metadata": {
        "id": "BdquZtEhOcNt"
      }
    },
    {
      "cell_type": "markdown",
      "source": [
        "### FULL (OUTER) JOIN (CROSS JOIN)\n",
        "Como mencionamos anteriormente, CROSS JOIN es la forma de FULL JOIN en MySQL. Probemos su funcionamiento uniendo las tablas netflix_activity y netflix_titles.\n",
        "\n",
        "```\n",
        "SELECT netflix_activity.show, netflix_activity.user_id, netflix_titles.show_id, netflix_titles.title\n",
        "FROM netflix_titles\n",
        "CROSS JOIN netflix_activity ON netflix_activity.show=netflix_titles.show_id\n",
        "ORDER BY netflix_activity.show;\n",
        "```"
      ],
      "metadata": {
        "id": "h3Sb95txO0vI"
      }
    },
    {
      "cell_type": "markdown",
      "source": [
        "## Subconsultas"
      ],
      "metadata": {
        "id": "TeFcWD6pdHF1"
      }
    },
    {
      "cell_type": "markdown",
      "source": [
        "Las subconsultas son una práctica muy eficiente al momento de realizar consultas complejas sobre un subconjunto de datos.\n",
        "\n",
        "- La siguiente subconsulta se ejecuta sobre la sentencia WHERE. Obtiene los show ID desde `netflix_activity` que correspondan únicamente a los primeros 4 ID (s1,s2,s3,s4). Sobre ese subconjunto rescatamos los títulos en la consulta principal.\n",
        "\n",
        "```\n",
        "select na.show from netflix_activity na where na.show in ('s1','s2','s3','s4');\n",
        "\n",
        "```\n",
        "\n",
        "- En el caso anterior, utilizamos la sentencia `IN` para requerir el filtrado de una columna respecto de una lista de valores. Podemos hacer lo mismo pero a la inversa con `NOT IN`.\n",
        "\n",
        "```\n",
        "select na.show from netflix_activity na where na.show not in ('s1','s2','s3','s4');\n",
        "```\n",
        "\n",
        "Un uso muy práctico de las subconsultas es que podemos aplicar alguna función de agregación (como `COUNT`, `SUM`, `AVG`, etc.) al subconjunto de datos, luego, filtrar los resultados de la consulta principal.\n",
        "\n",
        "- En la siguiente consulta, observa que la subconsulta está obteniendo únicamente los títulos que fueron vistos más de 3 veces. Podemos utilizar `netflix_titles` para obtener los nombres de dichos títulos, dado que `netflix_activity` no los tiene. \n",
        "\n",
        "```\n",
        "\n",
        "```\n",
        "\n",
        "\n"
      ],
      "metadata": {
        "id": "0a3gqyX0dPik"
      }
    },
    {
      "cell_type": "markdown",
      "source": [
        "select * from netflix_activity\n",
        "select * from netflix_users\n",
        "select * from netflix_titles\n",
        "\n",
        "-- Cuáles fueron las visualizaciones (shows) de los primeros 5 usuarios de netflix_users\n",
        "\n",
        "select * from netflix_users limit 5\n",
        "\n",
        "select * from netflix_activity order by show\n",
        "\n",
        "-- Respuestas\n",
        "\n",
        "select *  \n",
        "FROM netflix_activity\n",
        "WHERE user_id in (select user_id from netflix_users limit 5)\n",
        "order by user_id\n",
        "\n",
        "\n",
        "-- ejercicio 1\n",
        "\n",
        "SELECT * \n",
        "FROM netflix_activity\n",
        "WHERE show in (select show from netflix_activity where show in ('s1', 's2', 's3', 's4'))\n",
        "order by show\n",
        "\n",
        "\n",
        "select * from netflix_activity where show in ('s1', 's2', 's3', 's4')\n",
        "order by show\n",
        "\n",
        "-- ejercicio 2\n",
        "\n",
        "\n",
        "SELECT * \n",
        "FROM netflix_activity\n",
        "WHERE show not in (select show from netflix_activity where show in ('s1', 's2', 's3', 's4'))\n",
        "order by show\n",
        "\n",
        "\n",
        "--ejercicio 3\n",
        "\n",
        "-- subconsulta\n",
        "SELECT show as SH, COUNT (*) as vistas\n",
        "\t\tFROM netflix_activity\n",
        "\t\tgroup by show\n",
        "\t\thaving vistas > 3\n",
        "\n",
        "\t\t\n",
        "-- Solucion con Joins\t\t\n",
        "SELECT netflix_titles.title FROM (\n",
        "\t\tSELECT show as SH, COUNT (*) as vistas\n",
        "\t\tFROM netflix_activity\n",
        "\t\tgroup by show\n",
        "\t\thaving vistas > 3 ) as tabla\n",
        "INNER JOIN netflix_titles on netflix_titles.show_id = tabla.SH\n",
        "\n",
        "\n",
        "-- Solucion con Subconsulta\n",
        "\n",
        "SELECT title\n",
        "FROM netflix_titles\n",
        "where show_id in (\n",
        "\tSELECT SH FROM (\n",
        "\t\t\tSELECT show as SH, COUNT (*) as vistas\n",
        "\t\t\tFROM netflix_activity\n",
        "\t\t\tgroup by show\n",
        "\t\t\thaving vistas > 3 ) as tabla\n",
        ")\n",
        "\n"
      ],
      "metadata": {
        "id": "SDbTQ85aXDCC"
      }
    },
    {
      "cell_type": "code",
      "source": [],
      "metadata": {
        "id": "TMTcB06XXElY"
      },
      "execution_count": null,
      "outputs": []
    }
  ]
}