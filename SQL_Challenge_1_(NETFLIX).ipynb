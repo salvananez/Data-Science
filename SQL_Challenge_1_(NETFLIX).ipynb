{
  "nbformat": 4,
  "nbformat_minor": 0,
  "metadata": {
    "colab": {
      "provenance": [],
      "collapsed_sections": [],
      "include_colab_link": true
    },
    "kernelspec": {
      "name": "python3",
      "display_name": "Python 3"
    },
    "language_info": {
      "name": "python"
    }
  },
  "cells": [
    {
      "cell_type": "markdown",
      "metadata": {
        "id": "view-in-github",
        "colab_type": "text"
      },
      "source": [
        "<a href=\"https://colab.research.google.com/github/salvananez/Data-Science/blob/main/SQL_Challenge_1_(NETFLIX).ipynb\" target=\"_parent\"><img src=\"https://colab.research.google.com/assets/colab-badge.svg\" alt=\"Open In Colab\"/></a>"
      ]
    },
    {
      "cell_type": "markdown",
      "source": [
        "# Challenge: Analizando títulos de Netflix"
      ],
      "metadata": {
        "id": "-pNWScUokvZ8"
      }
    },
    {
      "cell_type": "markdown",
      "source": [
        "¡Felicidades! Después de un largo pero divertido proceso de reclutamiento, has sido contratado como Analytic Engineer Jr. en Netflix dentro del equipo remoto de Marketing Data Science 🤓\n",
        "\n",
        "Tus primeras tareas consisten en explorar la base de datos, obteniendo información relevante para plantearte preguntas más complejas próximamente.\n",
        "\n",
        "En este ejercicio, te conectarás a una base de datos donde se alojan 100 títulos publicados en Netflix seleccionados aleatoriamente. ¡Esa muestra debería bastar para demostrar tus habilidades! 😉"
      ],
      "metadata": {
        "id": "04ukMAXTkwVg"
      }
    },
    {
      "cell_type": "markdown",
      "source": [
        "## Preparación de los datos\n",
        "\n",
        "Antes de comenzar, jugarás a ser el ingeniero o ingeniera de datos que formó la base de datos en primer lugar. Sigue estos pasos para crear una nueva base de datos e importar un CSV en una tabla nueva."
      ],
      "metadata": {
        "id": "VEob4ygnwQrB"
      }
    },
    {
      "cell_type": "markdown",
      "source": [
        "1. Conéctate a MySQL Server: abre MySQL Workbench y haz clic en la conexión a tu servidor local. Ingresa tu usuario y contraseña.\n",
        "\n",
        "¿Aún no tienes hecha tu conexión? Averigua cómo hacerla [aquí](https://dev.mysql.com/doc/workbench/en/wb-mysql-connections-new.html)"
      ],
      "metadata": {
        "id": "0rKp_z6t701h"
      }
    },
    {
      "cell_type": "markdown",
      "source": [
        "2. Una vez conectado, acceda al menú de schemas del lado izquierdo:\n",
        "\n",
        "![schema0](https://drive.google.com/uc?export=view&id=1U0f_wShC6QU4c2WDNE7Vt0Hv2cR4xNvY)"
      ],
      "metadata": {
        "id": "aDweLGvx8tnk"
      }
    },
    {
      "cell_type": "markdown",
      "source": [
        "3. Una vez en la sección de Schemas, has clic en un espacio en blanco y selecciona 'Create Schema...'\n",
        "\n",
        "![schema11](https://drive.google.com/uc?export=view&id=1FSuEnZ6SVq_jwEomds1xu13uqpdh2esE)\n",
        "\n",
        "4. Del lado derecho verás algo como lo siguiente. Allí, deberás ingresar el nombre 'master' como el nombre de tu Schema.\n",
        "![schema2](https://drive.google.com/uc?export=view&id=1xIF_pHC-W1miKwNt5ghT0IjKjRjvn9Lo)\n",
        "\n",
        "5. Sigue los pasos de la ventana que aparecerá hasta que veas la siguiente pantalla:\n",
        "![schema31](https://drive.google.com/uc?export=view&id=1cUliC80ZhXONdfyB3hjSNGD9sOMXEJ2P)\n",
        "\n",
        "6. Verás un nuevo ícono en Schemas con el nombre de tu schema, haz clic derecho sobre él y selecciona \"Table Data Import Wizard\"\n",
        "![schema32](https://drive.google.com/uc?export=view&id=1WEPKNEM2bLSfJPVJ_46Mwanr3ofwZXAa)\n",
        "\n",
        "7. Ha llegado la hora de descargar el siguiente [archivo](https://drive.google.com/file/d/1QiyF1i0AlhbbijNh-7y9ecL07RYYE442/view?usp=sharing) en tu computadora. Una vez que lo hayas hecho, haz clic en \"Browse\" y selecciónalo.\n",
        "![schema4](https://drive.google.com/uc?export=view&id=1X1ph4L-nGlgCSdLp8bBJ2NJAO1q8uCip)\n",
        "\n",
        "8. En esta pantalla solo haz clic en \"Next\"\n",
        "![schema5](https://drive.google.com/uc?export=view&id=1udbztvBZEkgm53j1MHGk1wif_KOMKfMP)\n",
        "\n",
        "9. En esta pantalla, verifica que la pequeña muestra de la tabla se muestre correctamente y haz clic en \"Next\"\n",
        "![schema6](https://drive.google.com/uc?export=view&id=1SzctA8uFEa4rG3gYdEJpxaCkNnJT-gCO)\n",
        "\n",
        "10. Finalmente, clic en \"Next\" a esta pantalla y espera a que se importen los datos. Al terminar haz clic en \"Finish\".\n",
        "![schema7](https://drive.google.com/uc?export=view&id=1rn_zBpQ5ILq13nCpe189JVvFdKbCnb4o)\n",
        "\n",
        "11. Ahora, en el editor de scripts del lado derecho, escribe:\n",
        "\n",
        "```\n",
        "use master;\n",
        "show tables;\n",
        "```\n",
        "\n",
        "Deberías ver el siguiente resultado:\n",
        "\n",
        "![schema8](https://drive.google.com/uc?export=view&id=1vmdH5OCVs-wcT-uueqL8zsZW8rcQKrFj)"
      ],
      "metadata": {
        "id": "0aIjj9muAAjq"
      }
    },
    {
      "cell_type": "markdown",
      "source": [
        "## Ahora sí, a explorar esa base de datos 🤠"
      ],
      "metadata": {
        "id": "nE4naQiA3wSW"
      }
    },
    {
      "cell_type": "markdown",
      "source": [
        "1. Selecciona las columnas type, title, director y country. Devuélvelas en una misma tabla.\n",
        "\n",
        "Resultado esperado:\n",
        "\n",
        "![challenge1](https://drive.google.com/uc?export=view&id=1-mhNvFneOskDLuWI4B5p5J5BNdRxljhs)"
      ],
      "metadata": {
        "id": "UyJcYPiikwj5"
      }
    },
    {
      "cell_type": "code",
      "source": [
        "SELECT type, title, director, country FROM netflix_titles ne;\n"
      ],
      "metadata": {
        "id": "uFMUNcHQOXKW"
      },
      "execution_count": null,
      "outputs": []
    },
    {
      "cell_type": "markdown",
      "source": [
        "2. En la columna 'type' parece haber dos categorías 'Movies' y 'TV Shows'. ¿Cuántos títulos tenemos de cada tipo?\n",
        "\n",
        "Resultado esperado:\n",
        "\n",
        "![challenge2](https://drive.google.com/uc?export=view&id=17_lLrzpsj0tc6Q7Bq6d5YEJ1s3cDdWti)"
      ],
      "metadata": {
        "id": "IFr6CSee-KZO"
      }
    },
    {
      "cell_type": "code",
      "source": [
        "SELECT TYPE, COUNT(*) FROM netflix_titles GROUP BY TYPE; \n"
      ],
      "metadata": {
        "id": "ISsbTcHiOSyx"
      },
      "execution_count": null,
      "outputs": []
    },
    {
      "cell_type": "markdown",
      "source": [
        "3. ¿Cuál es el país con la película más reciente en la base de datos (año de lanzamiento más reciente)?\n",
        "\n",
        "Resultado esperado:\n",
        "\n",
        "![challenge3](https://drive.google.com/uc?export=view&id=1J65HbGWJbesusiVmQJo-ehZYyJkj10UV)"
      ],
      "metadata": {
        "id": "6cCfUJU--K28"
      }
    },
    {
      "cell_type": "code",
      "source": [
        "SELECT Country, max(release_year) from netflix_titles;\n"
      ],
      "metadata": {
        "id": "IITkJhz3OZ_z"
      },
      "execution_count": null,
      "outputs": []
    },
    {
      "cell_type": "markdown",
      "source": [
        "4. ¿Cuál es el título y el director de la película más antigua en la base de datos?\n",
        "\n",
        "Resultado esperado:\n",
        "\n",
        "![challenge4](https://drive.google.com/uc?export=view&id=12LfnzSN84B9ldDcL4SHqWCnkyKEAomFs)"
      ],
      "metadata": {
        "id": "V-Z2JuYt-Lbt"
      }
    },
    {
      "cell_type": "code",
      "source": [
        "select Country, director Director, min(release_year) 'Release year' from netflix_titles;\n"
      ],
      "metadata": {
        "id": "yapkJBXrOcJa"
      },
      "execution_count": null,
      "outputs": []
    },
    {
      "cell_type": "markdown",
      "source": [
        "5. ¿Cuáles series tiene solo 1 temporada (1 Season)? Queremos conocer solo el título, cast y rating.\n",
        "\n",
        "Resultado esperado:\n",
        "\n",
        "![challenge5](https://drive.google.com/uc?export=view&id=1t8h64I2v78yaq3MdhbzskpeSyjNmhTqd)"
      ],
      "metadata": {
        "id": "msDEW7rVzfas"
      }
    },
    {
      "cell_type": "code",
      "source": [
        "select title, cast, rating from netflix_titles ne where ne.duration = 1 ;\n"
      ],
      "metadata": {
        "id": "7pqroytxOjee"
      },
      "execution_count": null,
      "outputs": []
    },
    {
      "cell_type": "markdown",
      "source": [
        "6. Ha sido un día largo y queremos ver algo que nos haga reír. ¿Acaso habrá algún título que solo esté en la categoría 'Comedies' y nada más?\n",
        "\n",
        "Resultado esperado:\n",
        "\n",
        "![challenge6](https://drive.google.com/uc?export=view&id=1Wu6I2-YaeRdq09FssSmPkTgYibQIkM5c)"
      ],
      "metadata": {
        "id": "NoNeaLK-zf-c"
      }
    },
    {
      "cell_type": "code",
      "source": [
        "select title, duration, description, country from netflix_titles ne where ne.listed_in  = 'Comedies';\n"
      ],
      "metadata": {
        "id": "QdU7Uq2rOkZf"
      },
      "execution_count": null,
      "outputs": []
    },
    {
      "cell_type": "markdown",
      "source": [
        "7. Juguemos a ser un sistema de recomendación: A nuestro usuario le encantan las películas, pero solo las más recientes. Así que debes obtener el título, duración, descripción y año de lanzamiento, pero solo de las primeras 30 películas más recientes (debes ordenar de mayor a menor tus resultados).\n",
        "\n",
        "Tip: Para obtener solo 30 resultados, puedes agregar `LIMIT 30` al final de tu consulta.\n",
        "\n",
        "Resultado esperado:\n",
        "\n",
        "![challenge7](https://drive.google.com/uc?export=view&id=1PAv20ZZSloqo9a3jhc6pmZZOOa7jXZHJ)"
      ],
      "metadata": {
        "id": "3i405lryzgM-"
      }
    },
    {
      "cell_type": "code",
      "source": [
        "select title, duration, description, release_year 'Release Year'  from netflix_titles ne where type = 'Movie' order by release_year desc limit 30;\n"
      ],
      "metadata": {
        "id": "ecsmwZShOJlC"
      },
      "execution_count": null,
      "outputs": []
    }
  ]
}