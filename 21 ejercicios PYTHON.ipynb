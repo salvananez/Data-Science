{
  "nbformat": 4,
  "nbformat_minor": 0,
  "metadata": {
    "colab": {
      "provenance": [],
      "authorship_tag": "ABX9TyPktVfLA/t1XWUiFO0XxZYC",
      "include_colab_link": true
    },
    "kernelspec": {
      "name": "python3",
      "display_name": "Python 3"
    },
    "language_info": {
      "name": "python"
    }
  },
  "cells": [
    {
      "cell_type": "markdown",
      "metadata": {
        "id": "view-in-github",
        "colab_type": "text"
      },
      "source": [
        "<a href=\"https://colab.research.google.com/github/salvananez/Data-Science/blob/main/21%20ejercicios%20PYTHON.ipynb\" target=\"_parent\"><img src=\"https://colab.research.google.com/assets/colab-badge.svg\" alt=\"Open In Colab\"/></a>"
      ]
    },
    {
      "cell_type": "code",
      "execution_count": 5,
      "metadata": {
        "colab": {
          "base_uri": "https://localhost:8080/"
        },
        "id": "GhyUuNxN3LLH",
        "outputId": "610ccf09-4181-49a9-8ac1-5f59789565b8"
      },
      "outputs": [
        {
          "output_type": "stream",
          "name": "stdout",
          "text": [
            "12\n"
          ]
        }
      ],
      "source": [
        "# 1. Write a Python function to find the Max of three numbers. \n",
        "\n",
        "def maxof_n(*a):\n",
        "    return max(*a)\n",
        "\n",
        "print(maxof_n(4,9,6,5,12))\n"
      ]
    },
    {
      "cell_type": "code",
      "source": [
        "# 2. Write a Python function to sum all the numbers in a list.\n",
        "\n",
        "def sum_n(list):\n",
        "    c = 0\n",
        "    for n in list:\n",
        "      c += n\n",
        "    return c\n",
        "    \n",
        "sum_n([8, 2, 3, 0, 7])      \n",
        "\n"
      ],
      "metadata": {
        "colab": {
          "base_uri": "https://localhost:8080/"
        },
        "id": "0OYTXO8k3-xP",
        "outputId": "cd6201a6-ca18-4c47-b01f-1f7806f70b5f"
      },
      "execution_count": 6,
      "outputs": [
        {
          "output_type": "execute_result",
          "data": {
            "text/plain": [
              "20"
            ]
          },
          "metadata": {},
          "execution_count": 6
        }
      ]
    },
    {
      "cell_type": "code",
      "source": [
        "# 3. Write a Python function to multiply all the numbers in a list.\n",
        "\n",
        "def mult_n(list):\n",
        "    d = 1\n",
        "    for n in list:\n",
        "        d *= n\n",
        "    return d\n",
        "\n",
        "print(mult_n([8, 2, 3, -1, 7]))\n"
      ],
      "metadata": {
        "colab": {
          "base_uri": "https://localhost:8080/"
        },
        "id": "IUqWJBgV9C6O",
        "outputId": "275a3905-bb34-479d-8359-dd2a5058b59e"
      },
      "execution_count": 7,
      "outputs": [
        {
          "output_type": "stream",
          "name": "stdout",
          "text": [
            "-336\n"
          ]
        }
      ]
    },
    {
      "cell_type": "code",
      "source": [
        "# 4. Write a Python program to reverse a string.\n",
        "def reverse(string):\n",
        "    r = ''\n",
        "    index = len(string)\n",
        "    while index > 0:\n",
        "        r += string[index - 1]\n",
        "        index -= 1\n",
        "    return r\n",
        "  \n",
        "print(reverse('1234abcd'))"
      ],
      "metadata": {
        "colab": {
          "base_uri": "https://localhost:8080/"
        },
        "id": "NhNouZy0Ac5v",
        "outputId": "ff5ac36e-37bf-4ea2-d68b-93d3cf224676"
      },
      "execution_count": 8,
      "outputs": [
        {
          "output_type": "stream",
          "name": "stdout",
          "text": [
            "dcba4321\n"
          ]
        }
      ]
    },
    {
      "cell_type": "code",
      "source": [
        "# 5. Write a Python function to calculate the factorial of a number (a non-negative integer).\n",
        "#    The function accepts the number as an argument.\n",
        "\n",
        "def factorial(arg):\n",
        "       fact = 1\n",
        "       for i in range(1,arg+1):\n",
        "          fact = fact * i\n",
        "       print(fact)\n",
        "factorial(8)    \n"
      ],
      "metadata": {
        "id": "4TSUZIkdAgOt",
        "colab": {
          "base_uri": "https://localhost:8080/"
        },
        "outputId": "50ef5b0a-21a6-4b9e-e041-a142989f054f"
      },
      "execution_count": 9,
      "outputs": [
        {
          "output_type": "stream",
          "name": "stdout",
          "text": [
            "40320\n"
          ]
        }
      ]
    },
    {
      "cell_type": "code",
      "source": [
        "# 5. Bonus Answer\n",
        "import math\n",
        "math.factorial(8)"
      ],
      "metadata": {
        "colab": {
          "base_uri": "https://localhost:8080/"
        },
        "id": "IJCJLo1ui83T",
        "outputId": "94954115-d132-4d39-9e74-e2033f282430"
      },
      "execution_count": 10,
      "outputs": [
        {
          "output_type": "execute_result",
          "data": {
            "text/plain": [
              "40320"
            ]
          },
          "metadata": {},
          "execution_count": 10
        }
      ]
    },
    {
      "cell_type": "code",
      "source": [
        "# 6. Write a Python function to check whether a number falls in a given range.\n",
        "\n",
        "def fallInRange(num, ran):\n",
        "    if num in ran:\n",
        "        return True\n",
        "    else:\n",
        "      return False\n",
        "fallInRange(8,[3,8])"
      ],
      "metadata": {
        "colab": {
          "base_uri": "https://localhost:8080/"
        },
        "id": "aKZq4keeAlfB",
        "outputId": "bd5b2c89-190a-446d-cd9b-c4633d2eb6a1"
      },
      "execution_count": 11,
      "outputs": [
        {
          "output_type": "execute_result",
          "data": {
            "text/plain": [
              "True"
            ]
          },
          "metadata": {},
          "execution_count": 11
        }
      ]
    },
    {
      "cell_type": "code",
      "source": [
        "# 7. Write a Python function that accepts a string and calculate the number of \n",
        "#    upper case letters and lower case letters.\n",
        "\n",
        "def calc_uplow_case(strings):\n",
        "    up = 0\n",
        "    low = 0\n",
        "    for a in strings:\n",
        "      if a.isupper():\n",
        "        up += 1\n",
        "      elif a.islower():\n",
        "        low += 1  \n",
        "    return up , low\n",
        "\n",
        "calc_uplow_case('The quick Brow Fox')\n"
      ],
      "metadata": {
        "colab": {
          "base_uri": "https://localhost:8080/"
        },
        "id": "8wsKQonZAnT0",
        "outputId": "09745998-74a4-4363-b4e9-da6aa388927e"
      },
      "execution_count": 12,
      "outputs": [
        {
          "output_type": "execute_result",
          "data": {
            "text/plain": [
              "(3, 12)"
            ]
          },
          "metadata": {},
          "execution_count": 12
        }
      ]
    },
    {
      "cell_type": "code",
      "source": [
        "# 8. Write a Python function that takes a list and \n",
        "#    returns a new list with unique elements of the first list. \n",
        "\n",
        "def uniqueElements(lista):\n",
        "    nuevaLista = []\n",
        "    for n in lista:\n",
        "      if n not in nuevaLista:\n",
        "        nuevaLista.append(n)\n",
        "    return nuevaLista    \n",
        "\n",
        "uniqueElements([1,2,3,3,3,3,4,5])    "
      ],
      "metadata": {
        "colab": {
          "base_uri": "https://localhost:8080/"
        },
        "id": "IeBxiE6LCI95",
        "outputId": "8f5cf38b-6b96-4c91-ddee-e35b7ce38143"
      },
      "execution_count": 13,
      "outputs": [
        {
          "output_type": "execute_result",
          "data": {
            "text/plain": [
              "[1, 2, 3, 4, 5]"
            ]
          },
          "metadata": {},
          "execution_count": 13
        }
      ]
    },
    {
      "cell_type": "code",
      "source": [
        "# 9. Write a Python function that takes a number as a parameter and check the number is prime or not.\n",
        "\n",
        "def isPrime(num):\n",
        "    # if num == 1:\n",
        "    #     return False\n",
        "    # elif num == 2:\n",
        "    #     return True\n",
        "    # else:\n",
        "    \n",
        "      for x in range(2,num):\n",
        "          if(num % x == 0):\n",
        "             return False\n",
        "      return True\n",
        "isPrime(5)        "
      ],
      "metadata": {
        "colab": {
          "base_uri": "https://localhost:8080/"
        },
        "id": "fIuI9PNoCPmu",
        "outputId": "2870f846-136b-4c4a-fc8b-6ad84e70eecb"
      },
      "execution_count": 14,
      "outputs": [
        {
          "output_type": "execute_result",
          "data": {
            "text/plain": [
              "True"
            ]
          },
          "metadata": {},
          "execution_count": 14
        }
      ]
    },
    {
      "cell_type": "code",
      "source": [
        "# 10. Write a Python program to print the even numbers from a given list.\n",
        "\n",
        "def evenNum(arg):\n",
        "    return [num for num in arg if (num % 2 != 1)]\n",
        "\n",
        "print(evenNum([1, 2, 3, 4, 5, 6, 7, 8, 9]))"
      ],
      "metadata": {
        "colab": {
          "base_uri": "https://localhost:8080/"
        },
        "id": "_mr4e2evCSVR",
        "outputId": "0eea9e7b-013d-47bd-f31a-204a86c8751d"
      },
      "execution_count": 15,
      "outputs": [
        {
          "output_type": "stream",
          "name": "stdout",
          "text": [
            "[2, 4, 6, 8]\n"
          ]
        }
      ]
    },
    {
      "cell_type": "code",
      "source": [
        "# 11. Write a Python function to check whether a number is perfect or not. \n",
        "\n",
        "def perfect_number(n):\n",
        "    sum = 0\n",
        "    for x in range(1, n):\n",
        "        if n % x == 0:\n",
        "            sum += x\n",
        "    return sum == n\n",
        "print(perfect_number(28))\n"
      ],
      "metadata": {
        "id": "FKhUptHwCT3x",
        "colab": {
          "base_uri": "https://localhost:8080/"
        },
        "outputId": "43927687-15d8-4dc3-c275-5583f73b9592"
      },
      "execution_count": 31,
      "outputs": [
        {
          "output_type": "stream",
          "name": "stdout",
          "text": [
            "True\n"
          ]
        }
      ]
    },
    {
      "cell_type": "code",
      "source": [
        "# 12. Write a Python function that checks whether a passed string is palindrome or not.\n",
        "\n",
        "def is_palindrome(stg):\n",
        "    nosp =stg.replace(' ','')\n",
        "    nosp = nosp.lower()\n",
        "    stripstg = stg.replace(' ','')\n",
        "    stripstg = stripstg.lower()\n",
        "    r = ''\n",
        "    index = len(stripstg)\n",
        "    while index > 0:\n",
        "        r += stripstg[index - 1]\n",
        "        index -= 1\n",
        "        \n",
        "    # print(nosp) \n",
        "    # print(r)   \n",
        "    return r == nosp\n",
        "\n",
        "# is_palindrome(\"nurses run\")    \n",
        "is_palindrome('Dabale arroz a la zorra el abad')"
      ],
      "metadata": {
        "id": "q4niYimECV-q",
        "colab": {
          "base_uri": "https://localhost:8080/"
        },
        "outputId": "78868c81-bd21-4bf0-8038-437f32e2fab4"
      },
      "execution_count": 17,
      "outputs": [
        {
          "output_type": "execute_result",
          "data": {
            "text/plain": [
              "True"
            ]
          },
          "metadata": {},
          "execution_count": 17
        }
      ]
    },
    {
      "cell_type": "code",
      "source": [
        "# 13. Write a Python function that prints out the first n rows of Pascal's triangle. \n",
        "\n",
        "def pascal(n):\n",
        "    row = [1]\n",
        "    y = [0]\n",
        "    for x in range (max(n,0)):\n",
        "      print(row)\n",
        "      row=[l+r for l,r in zip (row+y,y+row) ]\n",
        "    return n>=1\n",
        "pascal(8)    "
      ],
      "metadata": {
        "id": "j0hw9-FICaCb",
        "colab": {
          "base_uri": "https://localhost:8080/"
        },
        "outputId": "252c9b45-73f6-419f-cd38-5caec466fc57"
      },
      "execution_count": 29,
      "outputs": [
        {
          "output_type": "stream",
          "name": "stdout",
          "text": [
            "[1]\n",
            "[1, 1]\n",
            "[1, 2, 1]\n",
            "[1, 3, 3, 1]\n",
            "[1, 4, 6, 4, 1]\n",
            "[1, 5, 10, 10, 5, 1]\n",
            "[1, 6, 15, 20, 15, 6, 1]\n",
            "[1, 7, 21, 35, 35, 21, 7, 1]\n"
          ]
        },
        {
          "output_type": "execute_result",
          "data": {
            "text/plain": [
              "True"
            ]
          },
          "metadata": {},
          "execution_count": 29
        }
      ]
    },
    {
      "cell_type": "code",
      "source": [
        "# 14. Write a Python function to check whether a string is a pangram or not.\n",
        "\n",
        "import string, sys\n",
        "def ispangram(str1, alphabet=string.ascii_lowercase):\n",
        "    alphaset = set(alphabet)\n",
        "    return alphaset <= set(str1.lower())\n",
        " \n",
        "print ( ispangram('The quick brown fox jumps over the lazy dog'))"
      ],
      "metadata": {
        "id": "mkngHD6OCd6Y",
        "colab": {
          "base_uri": "https://localhost:8080/"
        },
        "outputId": "2b5dfd3f-56cc-4e2b-f95e-1bd6c1ab541b"
      },
      "execution_count": 30,
      "outputs": [
        {
          "output_type": "stream",
          "name": "stdout",
          "text": [
            "True\n"
          ]
        }
      ]
    },
    {
      "cell_type": "code",
      "source": [
        "# 15. Write a Python program that accepts a hyphen-separated sequence of words as input\n",
        "#     and prints the words in a hyphen-separated sequence after sorting them alphabetically.\n",
        "\n",
        "\n",
        "def hypensequence(seq):\n",
        "    seq= seq.split(\"-\")\n",
        "    seq.sort()\n",
        "    seq = '-'.join(seq)\n",
        "    return seq\n",
        "\n",
        "hypensequence('green-red-yellow-black-white')"
      ],
      "metadata": {
        "id": "E4Mf3ngH8QmT",
        "colab": {
          "base_uri": "https://localhost:8080/",
          "height": 35
        },
        "outputId": "a002e31e-4c3f-4306-f6e2-fb22a5877664"
      },
      "execution_count": 20,
      "outputs": [
        {
          "output_type": "execute_result",
          "data": {
            "text/plain": [
              "'black-green-red-white-yellow'"
            ],
            "application/vnd.google.colaboratory.intrinsic+json": {
              "type": "string"
            }
          },
          "metadata": {},
          "execution_count": 20
        }
      ]
    },
    {
      "cell_type": "code",
      "source": [
        "def items():\n",
        "    items=[n for n in input().split('-')]\n",
        "    items.sort()\n",
        "    print('-'.join(items))\n",
        "\n",
        "items()"
      ],
      "metadata": {
        "colab": {
          "base_uri": "https://localhost:8080/"
        },
        "id": "EDdjpfJm4Z--",
        "outputId": "2c943fc4-864e-4843-d678-d1743587b940"
      },
      "execution_count": 21,
      "outputs": [
        {
          "output_type": "stream",
          "name": "stdout",
          "text": [
            "green-red-yellow-black-white\n",
            "black-green-red-white-yellow\n"
          ]
        }
      ]
    },
    {
      "cell_type": "code",
      "source": [
        "import pprint\n",
        "# 16. Write a Python function to create and print a list \n",
        "#     where the values are square of numbers between 1 and 30 (both included).\n",
        "\n",
        "def squarenum():\n",
        "    return [i**2 for i in range(1,30)]\n",
        "# print(squarenum())    \n",
        "pprint.pprint(squarenum(), indent=2, compact=True)"
      ],
      "metadata": {
        "id": "ttFNHTKH8YAr",
        "colab": {
          "base_uri": "https://localhost:8080/"
        },
        "outputId": "b6f45f12-f91b-4706-de20-a28f4ab762a5"
      },
      "execution_count": 22,
      "outputs": [
        {
          "output_type": "stream",
          "name": "stdout",
          "text": [
            "[ 1, 4, 9, 16, 25, 36, 49, 64, 81, 100, 121, 144, 169, 196, 225, 256, 289, 324,\n",
            "  361, 400, 441, 484, 529, 576, 625, 676, 729, 784, 841]\n"
          ]
        }
      ]
    },
    {
      "cell_type": "code",
      "source": [
        "# 17. Write a Python program to make a chain of function decorators (bold, italic, underline etc.) \n",
        "    # in Python."
      ],
      "metadata": {
        "id": "ULIYz3if83gB"
      },
      "execution_count": 23,
      "outputs": []
    },
    {
      "cell_type": "code",
      "source": [
        "def make_bold(fn):\n",
        "    def wrapped():\n",
        "        return \"<b>\" + fn() + \"</b>\"\n",
        "    return wrapped\n",
        "\n",
        "def make_italic(fn):\n",
        "    def wrapped():\n",
        "        return \"<i>\" + fn() + \"</i>\"\n",
        "    return wrapped\n",
        "\n",
        "def make_underline(fn):\n",
        "    def wrapped():\n",
        "        return \"<u>\" + fn() + \"</u>\"\n",
        "    return wrapped\n",
        "@make_bold\n",
        "@make_italic\n",
        "@make_underline\n",
        "def hello():\n",
        "    return \"hello world\"\n",
        "print(hello()) ## returns \"<b><i><u>hello world</u></i></b>\""
      ],
      "metadata": {
        "colab": {
          "base_uri": "https://localhost:8080/"
        },
        "id": "Ci7KCW-L8T9j",
        "outputId": "ca9ad07f-0c3b-495f-d113-92d03497f44d"
      },
      "execution_count": 24,
      "outputs": [
        {
          "output_type": "stream",
          "name": "stdout",
          "text": [
            "<b><i><u>hello world</u></i></b>\n"
          ]
        }
      ]
    },
    {
      "cell_type": "code",
      "source": [
        "# 18. Write a Python program to execute a string containing Python code\n",
        "\n",
        "# x = 8\n",
        "# eval('x+1')\n",
        "# y = 'print(x**2)'\n",
        "# exec(y)\n",
        "\n",
        "# def code_in_string(a,b):\n",
        "    \n",
        "#     z = 'print(f\"Multiplying {a} x {b} =\", a*b)'\n",
        "#     exec(z)\n",
        "\n",
        "# code_in_string(6,7)    \n",
        "class NumAMultiplicar():\n",
        "      def __init__(self,a, b) -> None:\n",
        "          self.a = a\n",
        "          self.b = b\n",
        "      def multi(self):\n",
        "          # return self.a * self.b\n",
        "          w = 'print(\"Multiplicacion de a + b =\",self.a * self.b)'\n",
        "          # w = 'self.a * self.b'\n",
        "          # return eval(w)\n",
        "          return exec(w)\n",
        "\n",
        "numeros = NumAMultiplicar(5,7)\n",
        "numeros.multi()\n"
      ],
      "metadata": {
        "colab": {
          "base_uri": "https://localhost:8080/"
        },
        "id": "FJteSWnQCS95",
        "outputId": "7c4b09e8-5ce7-4619-ab86-f7c38bb89b06"
      },
      "execution_count": 25,
      "outputs": [
        {
          "output_type": "stream",
          "name": "stdout",
          "text": [
            "Multiplicacion de a + b = 35\n"
          ]
        }
      ]
    },
    {
      "cell_type": "code",
      "source": [
        "\n",
        "# 19. Write a Python program to access a function inside a function.\n",
        "\n",
        "def function(a):\n",
        "    def nested(b):\n",
        "      nonlocal a\n",
        "      # a += 1\n",
        "      return a + b\n",
        "      \n",
        "    return nested\n",
        "\n",
        "fun = function(1)      \n",
        "print(fun(2))"
      ],
      "metadata": {
        "colab": {
          "base_uri": "https://localhost:8080/"
        },
        "id": "mPUkAb3JCWgU",
        "outputId": "ad19d605-f777-4727-cfea-7a78d6f0b3f8"
      },
      "execution_count": 27,
      "outputs": [
        {
          "output_type": "stream",
          "name": "stdout",
          "text": [
            "3\n"
          ]
        }
      ]
    },
    {
      "cell_type": "code",
      "source": [
        "# 20. Write a Python program to detect the number of local variables declared in a function.\n",
        "\n",
        "def variables():\n",
        "    a = 1\n",
        "    b = 2\n",
        "    c = 3 \n",
        "\n",
        "# variables()\n",
        "variables.__code__.co_nlocals    \n",
        "\n",
        "\n"
      ],
      "metadata": {
        "colab": {
          "base_uri": "https://localhost:8080/"
        },
        "id": "G417PAjoCYT8",
        "outputId": "f11aa38a-9561-4f81-e4f7-20f728cddceb"
      },
      "execution_count": 28,
      "outputs": [
        {
          "output_type": "execute_result",
          "data": {
            "text/plain": [
              "3"
            ]
          },
          "metadata": {},
          "execution_count": 28
        }
      ]
    },
    {
      "cell_type": "code",
      "source": [
        "# 21. Write a Python program that invoke a given function after specific milliseconds\n",
        "\n",
        "from time import sleep\n",
        "class NumAMultiplicar():\n",
        "      def __init__(self,a, b) -> None:\n",
        "          self.a = a\n",
        "          self.b = b\n",
        "      def multi(self):\n",
        "          # return self.a * self.b\n",
        "          w = 'print(\"Multiplicacion de a + b =\",self.a * self.b)'\n",
        "          # w = 'self.a * self.b'\n",
        "          # return eval(w)\n",
        "          return exec(w)\n",
        "      def delay(self, s):\n",
        "            sleep(s)\n",
        "            self.multi()\n",
        "          \n",
        "         \n",
        "numeros = NumAMultiplicar(5,7)\n",
        "# numeros.multi()\n",
        "numeros.delay(10)"
      ],
      "metadata": {
        "colab": {
          "base_uri": "https://localhost:8080/"
        },
        "id": "E15oVIvbCaDU",
        "outputId": "eadaa7c0-3db0-47c8-834e-f3f57fca92c2"
      },
      "execution_count": 4,
      "outputs": [
        {
          "output_type": "stream",
          "name": "stdout",
          "text": [
            "Multiplicacion de a + b = 35\n"
          ]
        }
      ]
    },
    {
      "cell_type": "code",
      "source": [],
      "metadata": {
        "id": "_0isUikjLWHB"
      },
      "execution_count": null,
      "outputs": []
    }
  ]
}